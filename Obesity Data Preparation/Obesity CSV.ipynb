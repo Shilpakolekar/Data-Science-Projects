{
 "cells": [
  {
   "cell_type": "raw",
   "metadata": {},
   "source": [
    "Shilpa Kolekar\n",
    "Obesity - CSV Data"
   ]
  },
  {
   "cell_type": "code",
   "execution_count": 1,
   "metadata": {},
   "outputs": [],
   "source": [
    "# Load necessary libraries\n",
    "import pandas as pd\n",
    "import numpy as np\n",
    "import matplotlib.pyplot as plt\n",
    "%matplotlib inline"
   ]
  },
  {
   "cell_type": "code",
   "execution_count": 2,
   "metadata": {},
   "outputs": [
    {
     "data": {
      "text/html": [
       "<div>\n",
       "<style scoped>\n",
       "    .dataframe tbody tr th:only-of-type {\n",
       "        vertical-align: middle;\n",
       "    }\n",
       "\n",
       "    .dataframe tbody tr th {\n",
       "        vertical-align: top;\n",
       "    }\n",
       "\n",
       "    .dataframe thead th {\n",
       "        text-align: right;\n",
       "    }\n",
       "</style>\n",
       "<table border=\"1\" class=\"dataframe\">\n",
       "  <thead>\n",
       "    <tr style=\"text-align: right;\">\n",
       "      <th></th>\n",
       "      <th>YearStart</th>\n",
       "      <th>YearEnd</th>\n",
       "      <th>LocationAbbr</th>\n",
       "      <th>LocationDesc</th>\n",
       "      <th>Datasource</th>\n",
       "      <th>Class</th>\n",
       "      <th>Topic</th>\n",
       "      <th>Question</th>\n",
       "      <th>Data_Value_Unit</th>\n",
       "      <th>Data_Value_Type</th>\n",
       "      <th>...</th>\n",
       "      <th>GeoLocation</th>\n",
       "      <th>ClassID</th>\n",
       "      <th>TopicID</th>\n",
       "      <th>QuestionID</th>\n",
       "      <th>DataValueTypeID</th>\n",
       "      <th>LocationID</th>\n",
       "      <th>StratificationCategory1</th>\n",
       "      <th>Stratification1</th>\n",
       "      <th>StratificationCategoryId1</th>\n",
       "      <th>StratificationID1</th>\n",
       "    </tr>\n",
       "  </thead>\n",
       "  <tbody>\n",
       "    <tr>\n",
       "      <th>0</th>\n",
       "      <td>2011</td>\n",
       "      <td>2011</td>\n",
       "      <td>AL</td>\n",
       "      <td>Alabama</td>\n",
       "      <td>Behavioral Risk Factor Surveillance System</td>\n",
       "      <td>Obesity / Weight Status</td>\n",
       "      <td>Obesity / Weight Status</td>\n",
       "      <td>Percent of adults aged 18 years and older who ...</td>\n",
       "      <td>NaN</td>\n",
       "      <td>Value</td>\n",
       "      <td>...</td>\n",
       "      <td>(32.84057112200048, -86.63186076199969)</td>\n",
       "      <td>OWS</td>\n",
       "      <td>OWS1</td>\n",
       "      <td>Q036</td>\n",
       "      <td>VALUE</td>\n",
       "      <td>1</td>\n",
       "      <td>Total</td>\n",
       "      <td>Total</td>\n",
       "      <td>OVR</td>\n",
       "      <td>OVERALL</td>\n",
       "    </tr>\n",
       "    <tr>\n",
       "      <th>1</th>\n",
       "      <td>2011</td>\n",
       "      <td>2011</td>\n",
       "      <td>AL</td>\n",
       "      <td>Alabama</td>\n",
       "      <td>Behavioral Risk Factor Surveillance System</td>\n",
       "      <td>Obesity / Weight Status</td>\n",
       "      <td>Obesity / Weight Status</td>\n",
       "      <td>Percent of adults aged 18 years and older who ...</td>\n",
       "      <td>NaN</td>\n",
       "      <td>Value</td>\n",
       "      <td>...</td>\n",
       "      <td>(32.84057112200048, -86.63186076199969)</td>\n",
       "      <td>OWS</td>\n",
       "      <td>OWS1</td>\n",
       "      <td>Q036</td>\n",
       "      <td>VALUE</td>\n",
       "      <td>1</td>\n",
       "      <td>Gender</td>\n",
       "      <td>Male</td>\n",
       "      <td>GEN</td>\n",
       "      <td>MALE</td>\n",
       "    </tr>\n",
       "    <tr>\n",
       "      <th>2</th>\n",
       "      <td>2011</td>\n",
       "      <td>2011</td>\n",
       "      <td>AL</td>\n",
       "      <td>Alabama</td>\n",
       "      <td>Behavioral Risk Factor Surveillance System</td>\n",
       "      <td>Obesity / Weight Status</td>\n",
       "      <td>Obesity / Weight Status</td>\n",
       "      <td>Percent of adults aged 18 years and older who ...</td>\n",
       "      <td>NaN</td>\n",
       "      <td>Value</td>\n",
       "      <td>...</td>\n",
       "      <td>(32.84057112200048, -86.63186076199969)</td>\n",
       "      <td>OWS</td>\n",
       "      <td>OWS1</td>\n",
       "      <td>Q036</td>\n",
       "      <td>VALUE</td>\n",
       "      <td>1</td>\n",
       "      <td>Gender</td>\n",
       "      <td>Female</td>\n",
       "      <td>GEN</td>\n",
       "      <td>FEMALE</td>\n",
       "    </tr>\n",
       "    <tr>\n",
       "      <th>3</th>\n",
       "      <td>2011</td>\n",
       "      <td>2011</td>\n",
       "      <td>AL</td>\n",
       "      <td>Alabama</td>\n",
       "      <td>Behavioral Risk Factor Surveillance System</td>\n",
       "      <td>Obesity / Weight Status</td>\n",
       "      <td>Obesity / Weight Status</td>\n",
       "      <td>Percent of adults aged 18 years and older who ...</td>\n",
       "      <td>NaN</td>\n",
       "      <td>Value</td>\n",
       "      <td>...</td>\n",
       "      <td>(32.84057112200048, -86.63186076199969)</td>\n",
       "      <td>OWS</td>\n",
       "      <td>OWS1</td>\n",
       "      <td>Q036</td>\n",
       "      <td>VALUE</td>\n",
       "      <td>1</td>\n",
       "      <td>Education</td>\n",
       "      <td>Less than high school</td>\n",
       "      <td>EDU</td>\n",
       "      <td>EDUHS</td>\n",
       "    </tr>\n",
       "    <tr>\n",
       "      <th>4</th>\n",
       "      <td>2011</td>\n",
       "      <td>2011</td>\n",
       "      <td>AL</td>\n",
       "      <td>Alabama</td>\n",
       "      <td>Behavioral Risk Factor Surveillance System</td>\n",
       "      <td>Obesity / Weight Status</td>\n",
       "      <td>Obesity / Weight Status</td>\n",
       "      <td>Percent of adults aged 18 years and older who ...</td>\n",
       "      <td>NaN</td>\n",
       "      <td>Value</td>\n",
       "      <td>...</td>\n",
       "      <td>(32.84057112200048, -86.63186076199969)</td>\n",
       "      <td>OWS</td>\n",
       "      <td>OWS1</td>\n",
       "      <td>Q036</td>\n",
       "      <td>VALUE</td>\n",
       "      <td>1</td>\n",
       "      <td>Education</td>\n",
       "      <td>High school graduate</td>\n",
       "      <td>EDU</td>\n",
       "      <td>EDUHSGRAD</td>\n",
       "    </tr>\n",
       "  </tbody>\n",
       "</table>\n",
       "<p>5 rows × 33 columns</p>\n",
       "</div>"
      ],
      "text/plain": [
       "   YearStart  YearEnd LocationAbbr LocationDesc  \\\n",
       "0       2011     2011           AL      Alabama   \n",
       "1       2011     2011           AL      Alabama   \n",
       "2       2011     2011           AL      Alabama   \n",
       "3       2011     2011           AL      Alabama   \n",
       "4       2011     2011           AL      Alabama   \n",
       "\n",
       "                                   Datasource                    Class  \\\n",
       "0  Behavioral Risk Factor Surveillance System  Obesity / Weight Status   \n",
       "1  Behavioral Risk Factor Surveillance System  Obesity / Weight Status   \n",
       "2  Behavioral Risk Factor Surveillance System  Obesity / Weight Status   \n",
       "3  Behavioral Risk Factor Surveillance System  Obesity / Weight Status   \n",
       "4  Behavioral Risk Factor Surveillance System  Obesity / Weight Status   \n",
       "\n",
       "                     Topic                                           Question  \\\n",
       "0  Obesity / Weight Status  Percent of adults aged 18 years and older who ...   \n",
       "1  Obesity / Weight Status  Percent of adults aged 18 years and older who ...   \n",
       "2  Obesity / Weight Status  Percent of adults aged 18 years and older who ...   \n",
       "3  Obesity / Weight Status  Percent of adults aged 18 years and older who ...   \n",
       "4  Obesity / Weight Status  Percent of adults aged 18 years and older who ...   \n",
       "\n",
       "   Data_Value_Unit Data_Value_Type  ...  \\\n",
       "0              NaN           Value  ...   \n",
       "1              NaN           Value  ...   \n",
       "2              NaN           Value  ...   \n",
       "3              NaN           Value  ...   \n",
       "4              NaN           Value  ...   \n",
       "\n",
       "                               GeoLocation  ClassID TopicID QuestionID  \\\n",
       "0  (32.84057112200048, -86.63186076199969)      OWS    OWS1       Q036   \n",
       "1  (32.84057112200048, -86.63186076199969)      OWS    OWS1       Q036   \n",
       "2  (32.84057112200048, -86.63186076199969)      OWS    OWS1       Q036   \n",
       "3  (32.84057112200048, -86.63186076199969)      OWS    OWS1       Q036   \n",
       "4  (32.84057112200048, -86.63186076199969)      OWS    OWS1       Q036   \n",
       "\n",
       "   DataValueTypeID  LocationID  StratificationCategory1  \\\n",
       "0            VALUE           1                    Total   \n",
       "1            VALUE           1                   Gender   \n",
       "2            VALUE           1                   Gender   \n",
       "3            VALUE           1                Education   \n",
       "4            VALUE           1                Education   \n",
       "\n",
       "         Stratification1 StratificationCategoryId1 StratificationID1  \n",
       "0                  Total                       OVR           OVERALL  \n",
       "1                   Male                       GEN              MALE  \n",
       "2                 Female                       GEN            FEMALE  \n",
       "3  Less than high school                       EDU             EDUHS  \n",
       "4   High school graduate                       EDU         EDUHSGRAD  \n",
       "\n",
       "[5 rows x 33 columns]"
      ]
     },
     "execution_count": 2,
     "metadata": {},
     "output_type": "execute_result"
    }
   ],
   "source": [
    "# load the csv file in dataframe and view first 5 rows using head() function\n",
    "nutrition_df = pd.read_csv(\"Nutrition_Physical_Activity_and_Obesity_-_Behavioral_Risk_Factor_Surveillance_System.csv\")\n",
    "nutrition_df.head()"
   ]
  },
  {
   "cell_type": "code",
   "execution_count": 3,
   "metadata": {},
   "outputs": [
    {
     "data": {
      "text/plain": [
       "(53392, 33)"
      ]
     },
     "execution_count": 3,
     "metadata": {},
     "output_type": "execute_result"
    }
   ],
   "source": [
    "# Check the of the dataframe using shape function\n",
    "nutrition_df.shape"
   ]
  },
  {
   "cell_type": "markdown",
   "metadata": {},
   "source": [
    "# Formating dataframe by removing unwanted columns"
   ]
  },
  {
   "cell_type": "code",
   "execution_count": 4,
   "metadata": {},
   "outputs": [
    {
     "data": {
      "text/html": [
       "<div>\n",
       "<style scoped>\n",
       "    .dataframe tbody tr th:only-of-type {\n",
       "        vertical-align: middle;\n",
       "    }\n",
       "\n",
       "    .dataframe tbody tr th {\n",
       "        vertical-align: top;\n",
       "    }\n",
       "\n",
       "    .dataframe thead th {\n",
       "        text-align: right;\n",
       "    }\n",
       "</style>\n",
       "<table border=\"1\" class=\"dataframe\">\n",
       "  <thead>\n",
       "    <tr style=\"text-align: right;\">\n",
       "      <th></th>\n",
       "      <th>LocationDesc</th>\n",
       "      <th>Class</th>\n",
       "      <th>Question</th>\n",
       "      <th>Data_Value</th>\n",
       "      <th>Low_Confidence_Limit</th>\n",
       "      <th>High_Confidence_Limit</th>\n",
       "      <th>Sample_Size</th>\n",
       "      <th>GeoLocation</th>\n",
       "      <th>ClassID</th>\n",
       "      <th>QuestionID</th>\n",
       "      <th>LocationID</th>\n",
       "      <th>StratificationCategory1</th>\n",
       "      <th>Stratification1</th>\n",
       "    </tr>\n",
       "  </thead>\n",
       "  <tbody>\n",
       "    <tr>\n",
       "      <th>0</th>\n",
       "      <td>Alabama</td>\n",
       "      <td>Obesity / Weight Status</td>\n",
       "      <td>Percent of adults aged 18 years and older who ...</td>\n",
       "      <td>32.0</td>\n",
       "      <td>30.5</td>\n",
       "      <td>33.5</td>\n",
       "      <td>7304.0</td>\n",
       "      <td>(32.84057112200048, -86.63186076199969)</td>\n",
       "      <td>OWS</td>\n",
       "      <td>Q036</td>\n",
       "      <td>1</td>\n",
       "      <td>Total</td>\n",
       "      <td>Total</td>\n",
       "    </tr>\n",
       "    <tr>\n",
       "      <th>1</th>\n",
       "      <td>Alabama</td>\n",
       "      <td>Obesity / Weight Status</td>\n",
       "      <td>Percent of adults aged 18 years and older who ...</td>\n",
       "      <td>32.3</td>\n",
       "      <td>29.9</td>\n",
       "      <td>34.7</td>\n",
       "      <td>2581.0</td>\n",
       "      <td>(32.84057112200048, -86.63186076199969)</td>\n",
       "      <td>OWS</td>\n",
       "      <td>Q036</td>\n",
       "      <td>1</td>\n",
       "      <td>Gender</td>\n",
       "      <td>Male</td>\n",
       "    </tr>\n",
       "    <tr>\n",
       "      <th>2</th>\n",
       "      <td>Alabama</td>\n",
       "      <td>Obesity / Weight Status</td>\n",
       "      <td>Percent of adults aged 18 years and older who ...</td>\n",
       "      <td>31.8</td>\n",
       "      <td>30.0</td>\n",
       "      <td>33.6</td>\n",
       "      <td>4723.0</td>\n",
       "      <td>(32.84057112200048, -86.63186076199969)</td>\n",
       "      <td>OWS</td>\n",
       "      <td>Q036</td>\n",
       "      <td>1</td>\n",
       "      <td>Gender</td>\n",
       "      <td>Female</td>\n",
       "    </tr>\n",
       "    <tr>\n",
       "      <th>3</th>\n",
       "      <td>Alabama</td>\n",
       "      <td>Obesity / Weight Status</td>\n",
       "      <td>Percent of adults aged 18 years and older who ...</td>\n",
       "      <td>33.6</td>\n",
       "      <td>29.9</td>\n",
       "      <td>37.6</td>\n",
       "      <td>1153.0</td>\n",
       "      <td>(32.84057112200048, -86.63186076199969)</td>\n",
       "      <td>OWS</td>\n",
       "      <td>Q036</td>\n",
       "      <td>1</td>\n",
       "      <td>Education</td>\n",
       "      <td>Less than high school</td>\n",
       "    </tr>\n",
       "    <tr>\n",
       "      <th>4</th>\n",
       "      <td>Alabama</td>\n",
       "      <td>Obesity / Weight Status</td>\n",
       "      <td>Percent of adults aged 18 years and older who ...</td>\n",
       "      <td>32.8</td>\n",
       "      <td>30.2</td>\n",
       "      <td>35.6</td>\n",
       "      <td>2402.0</td>\n",
       "      <td>(32.84057112200048, -86.63186076199969)</td>\n",
       "      <td>OWS</td>\n",
       "      <td>Q036</td>\n",
       "      <td>1</td>\n",
       "      <td>Education</td>\n",
       "      <td>High school graduate</td>\n",
       "    </tr>\n",
       "  </tbody>\n",
       "</table>\n",
       "</div>"
      ],
      "text/plain": [
       "  LocationDesc                    Class  \\\n",
       "0      Alabama  Obesity / Weight Status   \n",
       "1      Alabama  Obesity / Weight Status   \n",
       "2      Alabama  Obesity / Weight Status   \n",
       "3      Alabama  Obesity / Weight Status   \n",
       "4      Alabama  Obesity / Weight Status   \n",
       "\n",
       "                                            Question  Data_Value  \\\n",
       "0  Percent of adults aged 18 years and older who ...        32.0   \n",
       "1  Percent of adults aged 18 years and older who ...        32.3   \n",
       "2  Percent of adults aged 18 years and older who ...        31.8   \n",
       "3  Percent of adults aged 18 years and older who ...        33.6   \n",
       "4  Percent of adults aged 18 years and older who ...        32.8   \n",
       "\n",
       "   Low_Confidence_Limit  High_Confidence_Limit   Sample_Size  \\\n",
       "0                  30.5                    33.5       7304.0   \n",
       "1                  29.9                    34.7       2581.0   \n",
       "2                  30.0                    33.6       4723.0   \n",
       "3                  29.9                    37.6       1153.0   \n",
       "4                  30.2                    35.6       2402.0   \n",
       "\n",
       "                               GeoLocation ClassID QuestionID  LocationID  \\\n",
       "0  (32.84057112200048, -86.63186076199969)     OWS       Q036           1   \n",
       "1  (32.84057112200048, -86.63186076199969)     OWS       Q036           1   \n",
       "2  (32.84057112200048, -86.63186076199969)     OWS       Q036           1   \n",
       "3  (32.84057112200048, -86.63186076199969)     OWS       Q036           1   \n",
       "4  (32.84057112200048, -86.63186076199969)     OWS       Q036           1   \n",
       "\n",
       "  StratificationCategory1        Stratification1  \n",
       "0                   Total                  Total  \n",
       "1                  Gender                   Male  \n",
       "2                  Gender                 Female  \n",
       "3               Education  Less than high school  \n",
       "4               Education   High school graduate  "
      ]
     },
     "execution_count": 4,
     "metadata": {},
     "output_type": "execute_result"
    }
   ],
   "source": [
    "# Create a smaller DataFrame by removing columns not relevant for research\n",
    "# Create new dataframe which excludes irrelevant columns and save that into \"smaller_df\".\n",
    "# Check first 5 records using head() function.\n",
    "\n",
    "smaller_df = nutrition_df[['LocationDesc','Class','Question','Data_Value','Low_Confidence_Limit',\n",
    "                           'High_Confidence_Limit ','Sample_Size','GeoLocation','ClassID','QuestionID', 'LocationID',\n",
    "                           'StratificationCategory1','Stratification1']]                     \n",
    "smaller_df.head()\n"
   ]
  },
  {
   "cell_type": "markdown",
   "metadata": {},
   "source": [
    "# Check the duplicates"
   ]
  },
  {
   "cell_type": "code",
   "execution_count": 5,
   "metadata": {},
   "outputs": [
    {
     "name": "stdout",
     "output_type": "stream",
     "text": [
      "Location is duplicated - True\n",
      "Class is duplicated - True\n",
      "Question is duplicated - True\n",
      "Data Value Type is duplicated - True\n",
      "Low Confidence Limit is duplicated - True\n",
      "High Confidence Limit is duplicated  - True\n",
      "Sample Size is duplicated - True\n",
      "GeoLocation is duplicated - True\n",
      "Class ID is duplicated - True\n",
      "Question ID is duplicated - True\n",
      "Location ID is duplicated - True\n",
      "StratificationCategory1 is duplicated - True\n",
      "Stratification1 is duplicated - True\n"
     ]
    }
   ],
   "source": [
    "# All variables have duplicate values. The nature of my data set allows to have duplicate values in all columns. \n",
    "# Confirmed that all selected variables have duplicate values.\n",
    "\n",
    "print(\"Location is duplicated - {}\".format(any(smaller_df.LocationDesc.duplicated())))\n",
    "print(\"Class is duplicated - {}\".format(any(smaller_df.Class.duplicated())))\n",
    "print(\"Question is duplicated - {}\".format(any(smaller_df.Question.duplicated())))\n",
    "print(\"Data Value Type is duplicated - {}\".format(any(smaller_df.Data_Value.duplicated())))\n",
    "print(\"Low Confidence Limit is duplicated - {}\".format(any(smaller_df.Low_Confidence_Limit.duplicated())))\n",
    "print(\"High Confidence Limit is duplicated  - {}\".format(any(smaller_df['High_Confidence_Limit '].duplicated())))\n",
    "print(\"Sample Size is duplicated - {}\".format(any(smaller_df.Sample_Size.duplicated())))\n",
    "print(\"GeoLocation is duplicated - {}\".format(any(smaller_df.GeoLocation.duplicated())))\n",
    "print(\"Class ID is duplicated - {}\".format(any(smaller_df.ClassID.duplicated())))\n",
    "print(\"Question ID is duplicated - {}\".format(any(smaller_df.QuestionID.duplicated())))\n",
    "print(\"Location ID is duplicated - {}\".format(any(smaller_df.LocationID.duplicated())))\n",
    "print(\"StratificationCategory1 is duplicated - {}\".format(any(smaller_df.StratificationCategory1.duplicated())))\n",
    "print(\"Stratification1 is duplicated - {}\".format(any(smaller_df.Stratification1.duplicated())))"
   ]
  },
  {
   "cell_type": "markdown",
   "metadata": {},
   "source": [
    "# Replace Headers"
   ]
  },
  {
   "cell_type": "code",
   "execution_count": 6,
   "metadata": {},
   "outputs": [
    {
     "data": {
      "text/plain": [
       "Index(['LocationDesc', 'Class', 'Question', 'Data_Value',\n",
       "       'Low_Confidence_Limit', 'High_Confidence_Limit ', 'Sample_Size',\n",
       "       'GeoLocation', 'ClassID', 'QuestionID', 'LocationID',\n",
       "       'StratificationCategory1', 'Stratification1'],\n",
       "      dtype='object')"
      ]
     },
     "execution_count": 6,
     "metadata": {},
     "output_type": "execute_result"
    }
   ],
   "source": [
    "# below code is checking for all headers in dataframe\n",
    "\n",
    "smaller_df.columns"
   ]
  },
  {
   "cell_type": "code",
   "execution_count": 7,
   "metadata": {},
   "outputs": [
    {
     "name": "stderr",
     "output_type": "stream",
     "text": [
      "C:\\Users\\shilp\\anaconda3\\lib\\site-packages\\pandas\\core\\frame.py:4125: SettingWithCopyWarning: \n",
      "A value is trying to be set on a copy of a slice from a DataFrame\n",
      "\n",
      "See the caveats in the documentation: https://pandas.pydata.org/pandas-docs/stable/user_guide/indexing.html#returning-a-view-versus-a-copy\n",
      "  return super().rename(\n"
     ]
    },
    {
     "data": {
      "text/plain": [
       "Index(['LocationState', 'Class', 'Question', 'Data_Value',\n",
       "       'Low_Confidence_Limit', 'High_Confidence_Limit', 'Sample_Size',\n",
       "       'GeoLocation', 'ClassID', 'QuestionID', 'LocationID',\n",
       "       'StratificationCategory', 'Stratification'],\n",
       "      dtype='object')"
      ]
     },
     "execution_count": 7,
     "metadata": {},
     "output_type": "execute_result"
    }
   ],
   "source": [
    "# below 4 headings are changed to more relevant name:\n",
    "# LocationDesc, High_Confidence_Limit, StratificationCategory1, Stratification1\n",
    "\n",
    "smaller_df.rename(columns={\"LocationDesc\": \"LocationState\", \n",
    "                           \"High_Confidence_Limit \": \"High_Confidence_Limit\",  # Space after High_Confidence_Limit is removed\n",
    "                           \"StratificationCategory1\": \"StratificationCategory\",\n",
    "                           \"Stratification1\" : \"Stratification\"}, inplace=True)\n",
    "\n",
    "smaller_df.columns"
   ]
  },
  {
   "cell_type": "markdown",
   "metadata": {},
   "source": [
    "# Remove missing Value"
   ]
  },
  {
   "cell_type": "code",
   "execution_count": 8,
   "metadata": {},
   "outputs": [
    {
     "data": {
      "text/plain": [
       "LocationState                0\n",
       "Class                        0\n",
       "Question                     0\n",
       "Data_Value                5046\n",
       "Low_Confidence_Limit      5046\n",
       "High_Confidence_Limit     5046\n",
       "Sample_Size               5046\n",
       "GeoLocation               1008\n",
       "ClassID                      0\n",
       "QuestionID                   0\n",
       "LocationID                   0\n",
       "StratificationCategory       0\n",
       "Stratification               0\n",
       "dtype: int64"
      ]
     },
     "execution_count": 8,
     "metadata": {},
     "output_type": "execute_result"
    }
   ],
   "source": [
    "# checking null values in all columns and providing counts\n",
    "smaller_df.isnull().sum()\n"
   ]
  },
  {
   "cell_type": "code",
   "execution_count": 9,
   "metadata": {},
   "outputs": [
    {
     "data": {
      "text/plain": [
       "LocationState                0\n",
       "Class                        0\n",
       "Question                     0\n",
       "Data_Value                   0\n",
       "Low_Confidence_Limit         0\n",
       "High_Confidence_Limit        0\n",
       "Sample_Size                  0\n",
       "GeoLocation               1008\n",
       "ClassID                      0\n",
       "QuestionID                   0\n",
       "LocationID                   0\n",
       "StratificationCategory       0\n",
       "Stratification               0\n",
       "dtype: int64"
      ]
     },
     "execution_count": 9,
     "metadata": {},
     "output_type": "execute_result"
    }
   ],
   "source": [
    "# removing all rows where Data_Value has null values\n",
    "smaller_df=smaller_df[pd.notnull(smaller_df['Data_Value'])]\n",
    "smaller_df.isnull().sum()"
   ]
  },
  {
   "cell_type": "code",
   "execution_count": 10,
   "metadata": {},
   "outputs": [
    {
     "data": {
      "text/plain": [
       "LocationState             0\n",
       "Class                     0\n",
       "Question                  0\n",
       "Data_Value                0\n",
       "Low_Confidence_Limit      0\n",
       "High_Confidence_Limit     0\n",
       "Sample_Size               0\n",
       "GeoLocation               0\n",
       "ClassID                   0\n",
       "QuestionID                0\n",
       "LocationID                0\n",
       "StratificationCategory    0\n",
       "Stratification            0\n",
       "dtype: int64"
      ]
     },
     "execution_count": 10,
     "metadata": {},
     "output_type": "execute_result"
    }
   ],
   "source": [
    "# The above statement removed null values for Low_Confidence_Limit, High_Confidence_Limit, and Sample_Size also. \n",
    "# Removing all rows where Geolocation has null values.\n",
    "\n",
    "smaller_df=smaller_df[pd.notnull(smaller_df['GeoLocation'])]\n",
    "smaller_df.isnull().sum()"
   ]
  },
  {
   "cell_type": "markdown",
   "metadata": {},
   "source": [
    "# Check for outliers"
   ]
  },
  {
   "cell_type": "code",
   "execution_count": 11,
   "metadata": {},
   "outputs": [
    {
     "data": {
      "text/plain": [
       "{'whiskers': [<matplotlib.lines.Line2D at 0x26b774d9040>,\n",
       "  <matplotlib.lines.Line2D at 0x26b774d93a0>],\n",
       " 'caps': [<matplotlib.lines.Line2D at 0x26b774d9700>,\n",
       "  <matplotlib.lines.Line2D at 0x26b774d9a60>],\n",
       " 'boxes': [<matplotlib.lines.Line2D at 0x26b774bdca0>],\n",
       " 'medians': [<matplotlib.lines.Line2D at 0x26b774d9dc0>],\n",
       " 'fliers': [<matplotlib.lines.Line2D at 0x26b774e2100>],\n",
       " 'means': []}"
      ]
     },
     "execution_count": 11,
     "metadata": {},
     "output_type": "execute_result"
    },
    {
     "data": {
      "image/png": "[encoded data removed]",
      "text/plain": [
       "<Figure size 432x288 with 1 Axes>"
      ]
     },
     "metadata": {
      "needs_background": "light"
     },
     "output_type": "display_data"
    }
   ],
   "source": [
    "# plot the box plot to view outliers for Low_Confidence_Limit.  \n",
    "plt.boxplot(smaller_df.Low_Confidence_Limit, notch=True)"
   ]
  },
  {
   "cell_type": "code",
   "execution_count": 12,
   "metadata": {},
   "outputs": [
    {
     "data": {
      "text/plain": [
       "(47338, 13)"
      ]
     },
     "execution_count": 12,
     "metadata": {},
     "output_type": "execute_result"
    }
   ],
   "source": [
    "# Check the size of the dataframe before removing outliers\n",
    "smaller_df.shape"
   ]
  },
  {
   "cell_type": "code",
   "execution_count": 13,
   "metadata": {},
   "outputs": [
    {
     "data": {
      "text/plain": [
       "(46606, 13)"
      ]
     },
     "execution_count": 13,
     "metadata": {},
     "output_type": "execute_result"
    }
   ],
   "source": [
    "# Most of the values for Low_Confidence_Limit reside between 0 and 53. Remove outliers where Low_Confidence_Limit is \n",
    "# greater than 53 and check the number of rows afterwards. \n",
    "\n",
    "smaller_df = smaller_df[(smaller_df['Low_Confidence_Limit'] <= 53)]  \n",
    "smaller_df.shape"
   ]
  },
  {
   "cell_type": "code",
   "execution_count": 14,
   "metadata": {},
   "outputs": [
    {
     "data": {
      "text/plain": [
       "{'whiskers': [<matplotlib.lines.Line2D at 0x26b7762c5b0>,\n",
       "  <matplotlib.lines.Line2D at 0x26b7762c910>],\n",
       " 'caps': [<matplotlib.lines.Line2D at 0x26b7762cc70>,\n",
       "  <matplotlib.lines.Line2D at 0x26b7762cfd0>],\n",
       " 'boxes': [<matplotlib.lines.Line2D at 0x26b7762c250>],\n",
       " 'medians': [<matplotlib.lines.Line2D at 0x26b77637370>],\n",
       " 'fliers': [<matplotlib.lines.Line2D at 0x26b77637670>],\n",
       " 'means': []}"
      ]
     },
     "execution_count": 14,
     "metadata": {},
     "output_type": "execute_result"
    },
    {
     "data": {
      "image/png": "[encoded data removed]",
      "text/plain": [
       "<Figure size 432x288 with 1 Axes>"
      ]
     },
     "metadata": {
      "needs_background": "light"
     },
     "output_type": "display_data"
    }
   ],
   "source": [
    "# plot the box plot to view outliers for High_Confidence_Limit.  \n",
    "plt.boxplot(smaller_df.High_Confidence_Limit, notch=True)"
   ]
  },
  {
   "cell_type": "code",
   "execution_count": 15,
   "metadata": {},
   "outputs": [
    {
     "data": {
      "text/plain": [
       "(45923, 13)"
      ]
     },
     "execution_count": 15,
     "metadata": {},
     "output_type": "execute_result"
    }
   ],
   "source": [
    "# Most of the values for High_Confidence_Limit reside between 10 and 62. Remove outliers where Low_Confidence_Limit is \n",
    "# greater than 62 and less than 10 and check the number of rows afterwards.\n",
    "\n",
    "smaller_df = smaller_df[(smaller_df['High_Confidence_Limit'] <= 62) & (smaller_df['High_Confidence_Limit'] >= 10)]  \n",
    "smaller_df.shape"
   ]
  },
  {
   "cell_type": "code",
   "execution_count": 16,
   "metadata": {},
   "outputs": [
    {
     "data": {
      "text/plain": [
       "{'whiskers': [<matplotlib.lines.Line2D at 0x26b77367820>,\n",
       "  <matplotlib.lines.Line2D at 0x26b77367b80>],\n",
       " 'caps': [<matplotlib.lines.Line2D at 0x26b77367ee0>,\n",
       "  <matplotlib.lines.Line2D at 0x26b77372280>],\n",
       " 'boxes': [<matplotlib.lines.Line2D at 0x26b773674c0>],\n",
       " 'medians': [<matplotlib.lines.Line2D at 0x26b773725e0>],\n",
       " 'fliers': [<matplotlib.lines.Line2D at 0x26b773728e0>],\n",
       " 'means': []}"
      ]
     },
     "execution_count": 16,
     "metadata": {},
     "output_type": "execute_result"
    },
    {
     "data": {
      "image/png": "[encoded data removed]",
      "text/plain": [
       "<Figure size 432x288 with 1 Axes>"
      ]
     },
     "metadata": {
      "needs_background": "light"
     },
     "output_type": "display_data"
    }
   ],
   "source": [
    "# plot the box plot to view outliers for Data_Value.  \n",
    "plt.boxplot(smaller_df.Data_Value, notch=True)"
   ]
  },
  {
   "cell_type": "code",
   "execution_count": 17,
   "metadata": {},
   "outputs": [
    {
     "data": {
      "text/plain": [
       "(45858, 13)"
      ]
     },
     "execution_count": 17,
     "metadata": {},
     "output_type": "execute_result"
    }
   ],
   "source": [
    "# Most of the values for Data_Value reside between 5 and 56. Remove outliers where Data_Value is \n",
    "# greater than 56 and less than 5 and check the number of rows afterwards.\n",
    "\n",
    "smaller_df = smaller_df[(smaller_df['Data_Value'] <= 56) & (smaller_df['Data_Value'] >= 5)]  \n",
    "smaller_df.shape"
   ]
  },
  {
   "cell_type": "code",
   "execution_count": 18,
   "metadata": {},
   "outputs": [
    {
     "data": {
      "text/plain": [
       "{'whiskers': [<matplotlib.lines.Line2D at 0x26b770a66d0>,\n",
       "  <matplotlib.lines.Line2D at 0x26b770a6a30>],\n",
       " 'caps': [<matplotlib.lines.Line2D at 0x26b770a6d90>,\n",
       "  <matplotlib.lines.Line2D at 0x26b770b3130>],\n",
       " 'boxes': [<matplotlib.lines.Line2D at 0x26b770a6370>],\n",
       " 'medians': [<matplotlib.lines.Line2D at 0x26b770b3490>],\n",
       " 'fliers': [<matplotlib.lines.Line2D at 0x26b770b3790>],\n",
       " 'means': []}"
      ]
     },
     "execution_count": 18,
     "metadata": {},
     "output_type": "execute_result"
    },
    {
     "data": {
      "image/png": "[encoded data removed]",
      "text/plain": [
       "<Figure size 432x288 with 1 Axes>"
      ]
     },
     "metadata": {
      "needs_background": "light"
     },
     "output_type": "display_data"
    }
   ],
   "source": [
    "# plot the box plot to view outliers for Sample_Size. \n",
    "plt.boxplot(smaller_df.Sample_Size, notch=True)"
   ]
  },
  {
   "cell_type": "code",
   "execution_count": 19,
   "metadata": {},
   "outputs": [
    {
     "data": {
      "text/plain": [
       "(44958, 13)"
      ]
     },
     "execution_count": 19,
     "metadata": {},
     "output_type": "execute_result"
    }
   ],
   "source": [
    "# Most of the values for Sample_Size reside between 0 and 10000. Remove outliers where Data_Value is \n",
    "# greater than 10000 and check the number of rows afterwards.\n",
    "\n",
    "smaller_df = smaller_df[(smaller_df['Sample_Size'] <= 10000)]  \n",
    "smaller_df.shape"
   ]
  },
  {
   "cell_type": "markdown",
   "metadata": {},
   "source": [
    "# Fix casing or inconsistent values"
   ]
  },
  {
   "cell_type": "code",
   "execution_count": 20,
   "metadata": {},
   "outputs": [],
   "source": [
    "# all the data in the columns has consistent values and it is in proper case. No changes are needed.\n"
   ]
  },
  {
   "cell_type": "code",
   "execution_count": 21,
   "metadata": {},
   "outputs": [],
   "source": [
    "smaller_df.to_csv('nutrition.csv', index=False)"
   ]
  },
  {
   "cell_type": "code",
   "execution_count": null,
   "metadata": {},
   "outputs": [],
   "source": []
  }
 ],
 "metadata": {
  "kernelspec": {
   "display_name": "Python 3",
   "language": "python",
   "name": "python3"
  },
  "language_info": {
   "codemirror_mode": {
    "name": "ipython",
    "version": 3
   },
   "file_extension": ".py",
   "mimetype": "text/x-python",
   "name": "python",
   "nbconvert_exporter": "python",
   "pygments_lexer": "ipython3",
   "version": "3.8.3"
  }
 },
 "nbformat": 4,
 "nbformat_minor": 4
}
