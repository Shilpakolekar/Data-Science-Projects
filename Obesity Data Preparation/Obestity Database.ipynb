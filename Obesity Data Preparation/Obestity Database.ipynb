{
 "cells": [
  {
   "cell_type": "raw",
   "metadata": {},
   "source": [
    "Shilpa Kolekar\n",
    "Obesity - Join data and load into database"
   ]
  },
  {
   "cell_type": "code",
   "execution_count": 1,
   "metadata": {},
   "outputs": [],
   "source": [
    "# Load necessary libraries\n",
    "import pandas as pd\n",
    "import matplotlib.pyplot as plt\n",
    "%matplotlib inline\n",
    "import sqlite3"
   ]
  },
  {
   "cell_type": "code",
   "execution_count": 2,
   "metadata": {},
   "outputs": [],
   "source": [
    "# read cdc, nutrition, and obesity files from the local drive by using read_csv() and save each as a dataframe\n",
    "cdc_df = pd.read_csv(\"cdc.csv\")\n",
    "nutrition_df = pd.read_csv(\"nutrition.csv\")\n",
    "obesity_df = pd.read_csv(\"obesity.csv\")"
   ]
  },
  {
   "cell_type": "code",
   "execution_count": 3,
   "metadata": {},
   "outputs": [
    {
     "data": {
      "text/html": [
       "<div>\n",
       "<style scoped>\n",
       "    .dataframe tbody tr th:only-of-type {\n",
       "        vertical-align: middle;\n",
       "    }\n",
       "\n",
       "    .dataframe tbody tr th {\n",
       "        vertical-align: top;\n",
       "    }\n",
       "\n",
       "    .dataframe thead th {\n",
       "        text-align: right;\n",
       "    }\n",
       "</style>\n",
       "<table border=\"1\" class=\"dataframe\">\n",
       "  <thead>\n",
       "    <tr style=\"text-align: right;\">\n",
       "      <th></th>\n",
       "      <th>year</th>\n",
       "      <th>quarter</th>\n",
       "      <th>StateCode</th>\n",
       "      <th>State</th>\n",
       "      <th>topicdesc</th>\n",
       "      <th>policytopic</th>\n",
       "      <th>setting</th>\n",
       "      <th>title</th>\n",
       "      <th>status</th>\n",
       "      <th>citation</th>\n",
       "      <th>statusaltvalue</th>\n",
       "      <th>comments</th>\n",
       "      <th>displayorder</th>\n",
       "      <th>policytypeid</th>\n",
       "      <th>healthtopicid</th>\n",
       "      <th>policytopicid</th>\n",
       "      <th>settingid</th>\n",
       "      <th>provisionid</th>\n",
       "      <th>geolocation</th>\n",
       "    </tr>\n",
       "  </thead>\n",
       "  <tbody>\n",
       "    <tr>\n",
       "      <th>0</th>\n",
       "      <td>2010</td>\n",
       "      <td>1</td>\n",
       "      <td>NY</td>\n",
       "      <td>New York</td>\n",
       "      <td>Obesity</td>\n",
       "      <td>Incentives</td>\n",
       "      <td>Community</td>\n",
       "      <td>State Fiscal Plan</td>\n",
       "      <td>Dead</td>\n",
       "      <td>S6610</td>\n",
       "      <td>3</td>\n",
       "      <td>(Abstract - Enacts into law major components o...</td>\n",
       "      <td>38</td>\n",
       "      <td>LEG</td>\n",
       "      <td>002OB</td>\n",
       "      <td>029INC</td>\n",
       "      <td>002COM</td>\n",
       "      <td>1641</td>\n",
       "      <td>(42.827001032, -75.543970427)</td>\n",
       "    </tr>\n",
       "    <tr>\n",
       "      <th>1</th>\n",
       "      <td>2011</td>\n",
       "      <td>1</td>\n",
       "      <td>WV</td>\n",
       "      <td>West Virginia</td>\n",
       "      <td>Nutrition</td>\n",
       "      <td>Appropriations</td>\n",
       "      <td>Community</td>\n",
       "      <td>Sales Tax on Food</td>\n",
       "      <td>Dead</td>\n",
       "      <td>H2977</td>\n",
       "      <td>3</td>\n",
       "      <td>(Abstract - Eliminates the sales tax on food e...</td>\n",
       "      <td>2</td>\n",
       "      <td>LEG</td>\n",
       "      <td>001NUT</td>\n",
       "      <td>002APP</td>\n",
       "      <td>002COM</td>\n",
       "      <td>4781</td>\n",
       "      <td>(38.665510202, -80.712640135)</td>\n",
       "    </tr>\n",
       "    <tr>\n",
       "      <th>2</th>\n",
       "      <td>2011</td>\n",
       "      <td>1</td>\n",
       "      <td>MA</td>\n",
       "      <td>Massachusetts</td>\n",
       "      <td>Physical Activity</td>\n",
       "      <td>Built Environment and Street-Scale Design</td>\n",
       "      <td>Community</td>\n",
       "      <td>Pedestrian Safety</td>\n",
       "      <td>Dead</td>\n",
       "      <td>SD19</td>\n",
       "      <td>3</td>\n",
       "      <td>(Abstract - Relates to pedestrian safety.   ),...</td>\n",
       "      <td>68</td>\n",
       "      <td>LEG</td>\n",
       "      <td>003PA</td>\n",
       "      <td>049BED</td>\n",
       "      <td>002COM</td>\n",
       "      <td>4090</td>\n",
       "      <td>(42.27687047, -72.082690675)</td>\n",
       "    </tr>\n",
       "    <tr>\n",
       "      <th>3</th>\n",
       "      <td>2010</td>\n",
       "      <td>1</td>\n",
       "      <td>NC</td>\n",
       "      <td>North Carolina</td>\n",
       "      <td>Obesity</td>\n",
       "      <td>Menu Labeling</td>\n",
       "      <td>Community</td>\n",
       "      <td>Governors Budget</td>\n",
       "      <td>Dead</td>\n",
       "      <td>H1793</td>\n",
       "      <td>3</td>\n",
       "      <td>(Abstract - Concerns governors budget. ), (Bil...</td>\n",
       "      <td>41</td>\n",
       "      <td>LEG</td>\n",
       "      <td>002OB</td>\n",
       "      <td>032MNL</td>\n",
       "      <td>002COM</td>\n",
       "      <td>2908</td>\n",
       "      <td>(35.466220975, -79.159250463)</td>\n",
       "    </tr>\n",
       "    <tr>\n",
       "      <th>4</th>\n",
       "      <td>2011</td>\n",
       "      <td>1</td>\n",
       "      <td>FL</td>\n",
       "      <td>Florida</td>\n",
       "      <td>Physical Activity</td>\n",
       "      <td>Parks, Recreation and Trails</td>\n",
       "      <td>School/After School</td>\n",
       "      <td>Chronic Diseases&lt;br&gt;</td>\n",
       "      <td>Dead</td>\n",
       "      <td>S526</td>\n",
       "      <td>3</td>\n",
       "      <td>(Abstract - \"Creates the chronic disease preve...</td>\n",
       "      <td>59</td>\n",
       "      <td>LEG</td>\n",
       "      <td>003PA</td>\n",
       "      <td>034PRT</td>\n",
       "      <td>004SAS</td>\n",
       "      <td>5615</td>\n",
       "      <td>(28.932040377, -81.928960539)</td>\n",
       "    </tr>\n",
       "  </tbody>\n",
       "</table>\n",
       "</div>"
      ],
      "text/plain": [
       "   year  quarter StateCode           State          topicdesc  \\\n",
       "0  2010        1        NY        New York            Obesity   \n",
       "1  2011        1        WV   West Virginia          Nutrition   \n",
       "2  2011        1        MA   Massachusetts  Physical Activity   \n",
       "3  2010        1        NC  North Carolina            Obesity   \n",
       "4  2011        1        FL         Florida  Physical Activity   \n",
       "\n",
       "                                 policytopic              setting  \\\n",
       "0                                 Incentives            Community   \n",
       "1                             Appropriations            Community   \n",
       "2  Built Environment and Street-Scale Design            Community   \n",
       "3                              Menu Labeling            Community   \n",
       "4               Parks, Recreation and Trails  School/After School   \n",
       "\n",
       "                  title status citation  statusaltvalue  \\\n",
       "0     State Fiscal Plan   Dead    S6610               3   \n",
       "1     Sales Tax on Food   Dead    H2977               3   \n",
       "2     Pedestrian Safety   Dead     SD19               3   \n",
       "3      Governors Budget   Dead    H1793               3   \n",
       "4  Chronic Diseases<br>   Dead     S526               3   \n",
       "\n",
       "                                            comments  displayorder  \\\n",
       "0  (Abstract - Enacts into law major components o...            38   \n",
       "1  (Abstract - Eliminates the sales tax on food e...             2   \n",
       "2  (Abstract - Relates to pedestrian safety.   ),...            68   \n",
       "3  (Abstract - Concerns governors budget. ), (Bil...            41   \n",
       "4  (Abstract - \"Creates the chronic disease preve...            59   \n",
       "\n",
       "  policytypeid healthtopicid policytopicid settingid  provisionid  \\\n",
       "0          LEG         002OB        029INC    002COM         1641   \n",
       "1          LEG        001NUT        002APP    002COM         4781   \n",
       "2          LEG         003PA        049BED    002COM         4090   \n",
       "3          LEG         002OB        032MNL    002COM         2908   \n",
       "4          LEG         003PA        034PRT    004SAS         5615   \n",
       "\n",
       "                     geolocation  \n",
       "0  (42.827001032, -75.543970427)  \n",
       "1  (38.665510202, -80.712640135)  \n",
       "2   (42.27687047, -72.082690675)  \n",
       "3  (35.466220975, -79.159250463)  \n",
       "4  (28.932040377, -81.928960539)  "
      ]
     },
     "execution_count": 3,
     "metadata": {},
     "output_type": "execute_result"
    }
   ],
   "source": [
    "# Check first few rows by using head()\n",
    "cdc_df.head()"
   ]
  },
  {
   "cell_type": "code",
   "execution_count": 4,
   "metadata": {},
   "outputs": [
    {
     "data": {
      "text/html": [
       "<div>\n",
       "<style scoped>\n",
       "    .dataframe tbody tr th:only-of-type {\n",
       "        vertical-align: middle;\n",
       "    }\n",
       "\n",
       "    .dataframe tbody tr th {\n",
       "        vertical-align: top;\n",
       "    }\n",
       "\n",
       "    .dataframe thead th {\n",
       "        text-align: right;\n",
       "    }\n",
       "</style>\n",
       "<table border=\"1\" class=\"dataframe\">\n",
       "  <thead>\n",
       "    <tr style=\"text-align: right;\">\n",
       "      <th></th>\n",
       "      <th>LocationState</th>\n",
       "      <th>Class</th>\n",
       "      <th>Question</th>\n",
       "      <th>Data_Value</th>\n",
       "      <th>Low_Confidence_Limit</th>\n",
       "      <th>High_Confidence_Limit</th>\n",
       "      <th>Sample_Size</th>\n",
       "      <th>GeoLocation</th>\n",
       "      <th>ClassID</th>\n",
       "      <th>QuestionID</th>\n",
       "      <th>LocationID</th>\n",
       "      <th>StratificationCategory</th>\n",
       "      <th>Stratification</th>\n",
       "    </tr>\n",
       "  </thead>\n",
       "  <tbody>\n",
       "    <tr>\n",
       "      <th>0</th>\n",
       "      <td>Alabama</td>\n",
       "      <td>Obesity / Weight Status</td>\n",
       "      <td>Percent of adults aged 18 years and older who ...</td>\n",
       "      <td>32.0</td>\n",
       "      <td>30.5</td>\n",
       "      <td>33.5</td>\n",
       "      <td>7304.0</td>\n",
       "      <td>(32.84057112200048, -86.63186076199969)</td>\n",
       "      <td>OWS</td>\n",
       "      <td>Q036</td>\n",
       "      <td>1</td>\n",
       "      <td>Total</td>\n",
       "      <td>Total</td>\n",
       "    </tr>\n",
       "    <tr>\n",
       "      <th>1</th>\n",
       "      <td>Alabama</td>\n",
       "      <td>Obesity / Weight Status</td>\n",
       "      <td>Percent of adults aged 18 years and older who ...</td>\n",
       "      <td>32.3</td>\n",
       "      <td>29.9</td>\n",
       "      <td>34.7</td>\n",
       "      <td>2581.0</td>\n",
       "      <td>(32.84057112200048, -86.63186076199969)</td>\n",
       "      <td>OWS</td>\n",
       "      <td>Q036</td>\n",
       "      <td>1</td>\n",
       "      <td>Gender</td>\n",
       "      <td>Male</td>\n",
       "    </tr>\n",
       "    <tr>\n",
       "      <th>2</th>\n",
       "      <td>Alabama</td>\n",
       "      <td>Obesity / Weight Status</td>\n",
       "      <td>Percent of adults aged 18 years and older who ...</td>\n",
       "      <td>31.8</td>\n",
       "      <td>30.0</td>\n",
       "      <td>33.6</td>\n",
       "      <td>4723.0</td>\n",
       "      <td>(32.84057112200048, -86.63186076199969)</td>\n",
       "      <td>OWS</td>\n",
       "      <td>Q036</td>\n",
       "      <td>1</td>\n",
       "      <td>Gender</td>\n",
       "      <td>Female</td>\n",
       "    </tr>\n",
       "    <tr>\n",
       "      <th>3</th>\n",
       "      <td>Alabama</td>\n",
       "      <td>Obesity / Weight Status</td>\n",
       "      <td>Percent of adults aged 18 years and older who ...</td>\n",
       "      <td>33.6</td>\n",
       "      <td>29.9</td>\n",
       "      <td>37.6</td>\n",
       "      <td>1153.0</td>\n",
       "      <td>(32.84057112200048, -86.63186076199969)</td>\n",
       "      <td>OWS</td>\n",
       "      <td>Q036</td>\n",
       "      <td>1</td>\n",
       "      <td>Education</td>\n",
       "      <td>Less than high school</td>\n",
       "    </tr>\n",
       "    <tr>\n",
       "      <th>4</th>\n",
       "      <td>Alabama</td>\n",
       "      <td>Obesity / Weight Status</td>\n",
       "      <td>Percent of adults aged 18 years and older who ...</td>\n",
       "      <td>32.8</td>\n",
       "      <td>30.2</td>\n",
       "      <td>35.6</td>\n",
       "      <td>2402.0</td>\n",
       "      <td>(32.84057112200048, -86.63186076199969)</td>\n",
       "      <td>OWS</td>\n",
       "      <td>Q036</td>\n",
       "      <td>1</td>\n",
       "      <td>Education</td>\n",
       "      <td>High school graduate</td>\n",
       "    </tr>\n",
       "  </tbody>\n",
       "</table>\n",
       "</div>"
      ],
      "text/plain": [
       "  LocationState                    Class  \\\n",
       "0       Alabama  Obesity / Weight Status   \n",
       "1       Alabama  Obesity / Weight Status   \n",
       "2       Alabama  Obesity / Weight Status   \n",
       "3       Alabama  Obesity / Weight Status   \n",
       "4       Alabama  Obesity / Weight Status   \n",
       "\n",
       "                                            Question  Data_Value  \\\n",
       "0  Percent of adults aged 18 years and older who ...        32.0   \n",
       "1  Percent of adults aged 18 years and older who ...        32.3   \n",
       "2  Percent of adults aged 18 years and older who ...        31.8   \n",
       "3  Percent of adults aged 18 years and older who ...        33.6   \n",
       "4  Percent of adults aged 18 years and older who ...        32.8   \n",
       "\n",
       "   Low_Confidence_Limit  High_Confidence_Limit  Sample_Size  \\\n",
       "0                  30.5                   33.5       7304.0   \n",
       "1                  29.9                   34.7       2581.0   \n",
       "2                  30.0                   33.6       4723.0   \n",
       "3                  29.9                   37.6       1153.0   \n",
       "4                  30.2                   35.6       2402.0   \n",
       "\n",
       "                               GeoLocation ClassID QuestionID  LocationID  \\\n",
       "0  (32.84057112200048, -86.63186076199969)     OWS       Q036           1   \n",
       "1  (32.84057112200048, -86.63186076199969)     OWS       Q036           1   \n",
       "2  (32.84057112200048, -86.63186076199969)     OWS       Q036           1   \n",
       "3  (32.84057112200048, -86.63186076199969)     OWS       Q036           1   \n",
       "4  (32.84057112200048, -86.63186076199969)     OWS       Q036           1   \n",
       "\n",
       "  StratificationCategory         Stratification  \n",
       "0                  Total                  Total  \n",
       "1                 Gender                   Male  \n",
       "2                 Gender                 Female  \n",
       "3              Education  Less than high school  \n",
       "4              Education   High school graduate  "
      ]
     },
     "execution_count": 4,
     "metadata": {},
     "output_type": "execute_result"
    }
   ],
   "source": [
    "# Check first few rows by using head()\n",
    "nutrition_df.head()"
   ]
  },
  {
   "cell_type": "code",
   "execution_count": 5,
   "metadata": {},
   "outputs": [
    {
     "data": {
      "text/html": [
       "<div>\n",
       "<style scoped>\n",
       "    .dataframe tbody tr th:only-of-type {\n",
       "        vertical-align: middle;\n",
       "    }\n",
       "\n",
       "    .dataframe tbody tr th {\n",
       "        vertical-align: top;\n",
       "    }\n",
       "\n",
       "    .dataframe thead th {\n",
       "        text-align: right;\n",
       "    }\n",
       "</style>\n",
       "<table border=\"1\" class=\"dataframe\">\n",
       "  <thead>\n",
       "    <tr style=\"text-align: right;\">\n",
       "      <th></th>\n",
       "      <th>States, district, &amp; territories</th>\n",
       "      <th>Obesity rank</th>\n",
       "      <th>Obese adults (2000)</th>\n",
       "      <th>Obese adults (2020)</th>\n",
       "      <th>Overweight adults (2000)</th>\n",
       "      <th>Obese children and adolescents (2000)</th>\n",
       "    </tr>\n",
       "  </thead>\n",
       "  <tbody>\n",
       "    <tr>\n",
       "      <th>0</th>\n",
       "      <td>Alabama</td>\n",
       "      <td>5</td>\n",
       "      <td>30.1</td>\n",
       "      <td>36.3</td>\n",
       "      <td>65.4</td>\n",
       "      <td>16.7</td>\n",
       "    </tr>\n",
       "    <tr>\n",
       "      <th>1</th>\n",
       "      <td>Alaska</td>\n",
       "      <td>9</td>\n",
       "      <td>27.3</td>\n",
       "      <td>34.2</td>\n",
       "      <td>64.5</td>\n",
       "      <td>11.1</td>\n",
       "    </tr>\n",
       "    <tr>\n",
       "      <th>2</th>\n",
       "      <td>Arizona</td>\n",
       "      <td>30</td>\n",
       "      <td>23.3</td>\n",
       "      <td>29.5</td>\n",
       "      <td>59.5</td>\n",
       "      <td>12.2</td>\n",
       "    </tr>\n",
       "    <tr>\n",
       "      <th>3</th>\n",
       "      <td>Arkansas</td>\n",
       "      <td>7</td>\n",
       "      <td>28.1</td>\n",
       "      <td>35.0</td>\n",
       "      <td>64.7</td>\n",
       "      <td>16.4</td>\n",
       "    </tr>\n",
       "    <tr>\n",
       "      <th>4</th>\n",
       "      <td>California</td>\n",
       "      <td>48</td>\n",
       "      <td>23.1</td>\n",
       "      <td>25.1</td>\n",
       "      <td>59.4</td>\n",
       "      <td>13.2</td>\n",
       "    </tr>\n",
       "  </tbody>\n",
       "</table>\n",
       "</div>"
      ],
      "text/plain": [
       "  States, district, & territories  Obesity rank  Obese adults (2000)  \\\n",
       "0                         Alabama             5                 30.1   \n",
       "1                          Alaska             9                 27.3   \n",
       "2                         Arizona            30                 23.3   \n",
       "3                        Arkansas             7                 28.1   \n",
       "4                      California            48                 23.1   \n",
       "\n",
       "   Obese adults (2020)  Overweight adults (2000)  \\\n",
       "0                 36.3                      65.4   \n",
       "1                 34.2                      64.5   \n",
       "2                 29.5                      59.5   \n",
       "3                 35.0                      64.7   \n",
       "4                 25.1                      59.4   \n",
       "\n",
       "   Obese children and adolescents (2000)  \n",
       "0                                   16.7  \n",
       "1                                   11.1  \n",
       "2                                   12.2  \n",
       "3                                   16.4  \n",
       "4                                   13.2  "
      ]
     },
     "execution_count": 5,
     "metadata": {},
     "output_type": "execute_result"
    }
   ],
   "source": [
    "# Check first few rows by using head()\n",
    "obesity_df.head()"
   ]
  },
  {
   "cell_type": "code",
   "execution_count": 6,
   "metadata": {},
   "outputs": [],
   "source": [
    "# Change the headings of the data frames to appropriate names \n",
    "cdc_df.rename(columns= {\"topicdesc\": \"Topic\"}, inplace=True)\n",
    "obesity_df.rename(columns= {\"States, district, & territories\": \"State\"}, inplace=True)\n",
    "nutrition_df.rename(columns= {\"LocationState\": \"State\", \"Class\": \"Topic\"}, inplace=True)"
   ]
  },
  {
   "cell_type": "code",
   "execution_count": 7,
   "metadata": {},
   "outputs": [
    {
     "data": {
      "text/plain": [
       "Index(['year', 'quarter', 'StateCode', 'State', 'Topic', 'policytopic',\n",
       "       'setting', 'title', 'status', 'citation', 'statusaltvalue', 'comments',\n",
       "       'displayorder', 'policytypeid', 'healthtopicid', 'policytopicid',\n",
       "       'settingid', 'provisionid', 'geolocation'],\n",
       "      dtype='object')"
      ]
     },
     "execution_count": 7,
     "metadata": {},
     "output_type": "execute_result"
    }
   ],
   "source": [
    "# check the column names of the cdc_df dataframe\n",
    "cdc_df.columns"
   ]
  },
  {
   "cell_type": "code",
   "execution_count": 8,
   "metadata": {},
   "outputs": [
    {
     "data": {
      "text/plain": [
       "Index(['State', 'Obesity rank', 'Obese adults (2000)', 'Obese adults (2020)',\n",
       "       'Overweight adults (2000)', 'Obese children and adolescents (2000)'],\n",
       "      dtype='object')"
      ]
     },
     "execution_count": 8,
     "metadata": {},
     "output_type": "execute_result"
    }
   ],
   "source": [
    "# check the column names of the obesity_df dataframe\n",
    "obesity_df.columns"
   ]
  },
  {
   "cell_type": "code",
   "execution_count": 9,
   "metadata": {},
   "outputs": [
    {
     "data": {
      "text/plain": [
       "Index(['State', 'Topic', 'Question', 'Data_Value', 'Low_Confidence_Limit',\n",
       "       'High_Confidence_Limit', 'Sample_Size', 'GeoLocation', 'ClassID',\n",
       "       'QuestionID', 'LocationID', 'StratificationCategory', 'Stratification'],\n",
       "      dtype='object')"
      ]
     },
     "execution_count": 9,
     "metadata": {},
     "output_type": "execute_result"
    }
   ],
   "source": [
    "# check the column names of the nutrition_df dataframe\n",
    "nutrition_df.columns"
   ]
  },
  {
   "cell_type": "code",
   "execution_count": 10,
   "metadata": {},
   "outputs": [],
   "source": [
    "# The values in the Topic columns were different for nutrition_df and cdc_df \n",
    "# Changed the values \"Obesity / Weight Status\" to \"Obesity\" in nutrition_df to match with cdc_df \n",
    "nutrition_df.Topic.mask(nutrition_df.Topic == 'Obesity / Weight Status', 'Obesity', inplace=True)"
   ]
  },
  {
   "cell_type": "code",
   "execution_count": 11,
   "metadata": {},
   "outputs": [],
   "source": [
    "# The values in the Topic columns were different for nutrition_df and cdc_df \n",
    "# Changed the values \"Fruits and Vegetables\" to \"Nutrition\" in nutrition_df to match with cdc_df \n",
    "nutrition_df.Topic.mask(nutrition_df.Topic == 'Fruits and Vegetables', 'Nutrition', inplace=True)"
   ]
  },
  {
   "cell_type": "code",
   "execution_count": 38,
   "metadata": {},
   "outputs": [],
   "source": [
    "# Create connection with milestone5 database\n",
    "conn = sqlite3.connect(\"obesity.db\")"
   ]
  },
  {
   "cell_type": "code",
   "execution_count": 39,
   "metadata": {},
   "outputs": [],
   "source": [
    "# load the three tables to milestone5 database using three data frames using to_sql()\n",
    "cdc_df.to_sql('cdc', conn)\n",
    "obesity_df.to_sql('obesity', conn)\n",
    "nutrition_df.to_sql('nutrition', conn)"
   ]
  },
  {
   "cell_type": "code",
   "execution_count": 40,
   "metadata": {},
   "outputs": [],
   "source": [
    "# Execute query to list the tables in the database \n",
    "rows = conn.execute('SELECT name FROM sqlite_master WHERE type =\"table\" AND name NOT LIKE \"sqlite_%\";')"
   ]
  },
  {
   "cell_type": "code",
   "execution_count": 41,
   "metadata": {},
   "outputs": [
    {
     "name": "stdout",
     "output_type": "stream",
     "text": [
      "('cdc',)\n",
      "('obesity',)\n",
      "('nutrition',)\n"
     ]
    }
   ],
   "source": [
    "# Print the result of query to confirm all three tables were created\n",
    "for row in rows:\n",
    "    print(row)"
   ]
  },
  {
   "cell_type": "code",
   "execution_count": 42,
   "metadata": {},
   "outputs": [],
   "source": [
    "# print total number of rows in the cdc table to confirm that cdc table is loaded with all records\n",
    "rows = conn.execute('SELECT count(*) FROM cdc')"
   ]
  },
  {
   "cell_type": "code",
   "execution_count": 43,
   "metadata": {},
   "outputs": [
    {
     "name": "stdout",
     "output_type": "stream",
     "text": [
      "(1000,)\n"
     ]
    }
   ],
   "source": [
    "for row in rows:\n",
    "    print(row)"
   ]
  },
  {
   "cell_type": "code",
   "execution_count": 44,
   "metadata": {},
   "outputs": [],
   "source": [
    "# print total number of rows in the cdc table to confirm that obesity table is loaded with all records\n",
    "rows = conn.execute('SELECT count(*) FROM obesity')"
   ]
  },
  {
   "cell_type": "code",
   "execution_count": 45,
   "metadata": {},
   "outputs": [
    {
     "name": "stdout",
     "output_type": "stream",
     "text": [
      "(51,)\n"
     ]
    }
   ],
   "source": [
    "for row in rows:\n",
    "    print(row)"
   ]
  },
  {
   "cell_type": "code",
   "execution_count": 46,
   "metadata": {},
   "outputs": [],
   "source": [
    "# print total number of rows in the cdc table to confirm that nutrition table is loaded with all records\n",
    "rows = conn.execute('SELECT count(*) FROM nutrition')"
   ]
  },
  {
   "cell_type": "code",
   "execution_count": 47,
   "metadata": {},
   "outputs": [
    {
     "name": "stdout",
     "output_type": "stream",
     "text": [
      "(44958,)\n"
     ]
    }
   ],
   "source": [
    "for row in rows:\n",
    "    print(row)"
   ]
  },
  {
   "cell_type": "code",
   "execution_count": 48,
   "metadata": {},
   "outputs": [],
   "source": [
    "# SQL query will create one \"combined\" table which joins three tables by using \"state\" and \"Topic\" variable \n",
    "# cdc and nutrition tables are joined by using \"State\" and \"Topic\" variables\n",
    "# cdc and obesity tables are joined by using \"State\" variable \n",
    "query = '''\n",
    "        CREATE TABLE combined AS   \n",
    "        SELECT * FROM nutrition \n",
    "        JOIN cdc ON cdc.State = nutrition.State \n",
    "        AND cdc.Topic = nutrition.Topic \n",
    "        JOIN obesity ON obesity.State = cdc.State\n",
    "        '''"
   ]
  },
  {
   "cell_type": "code",
   "execution_count": 49,
   "metadata": {},
   "outputs": [],
   "source": [
    "# execute the above query\n",
    "rows = conn.execute(query)"
   ]
  },
  {
   "cell_type": "code",
   "execution_count": 50,
   "metadata": {},
   "outputs": [],
   "source": [
    "# Print total number of rows in the combined table to determine how many rows were created through join\n",
    "rows = conn.execute('SELECT count(*) FROM combined')"
   ]
  },
  {
   "cell_type": "code",
   "execution_count": 51,
   "metadata": {},
   "outputs": [
    {
     "name": "stdout",
     "output_type": "stream",
     "text": [
      "(247850,)\n"
     ]
    }
   ],
   "source": [
    "for row in rows:\n",
    "    print(row)"
   ]
  },
  {
   "cell_type": "code",
   "execution_count": 52,
   "metadata": {},
   "outputs": [],
   "source": [
    "# Commit the data to the database\n",
    "conn.commit()"
   ]
  },
  {
   "cell_type": "code",
   "execution_count": 53,
   "metadata": {},
   "outputs": [],
   "source": [
    "# Extract the combined table to the dataframe\n",
    "combined_df = pd.read_sql('SELECT * FROM combined', conn)"
   ]
  },
  {
   "cell_type": "code",
   "execution_count": 54,
   "metadata": {},
   "outputs": [
    {
     "data": {
      "text/plain": [
       "(247850, 41)"
      ]
     },
     "execution_count": 54,
     "metadata": {},
     "output_type": "execute_result"
    }
   ],
   "source": [
    "# check for total rows and columns in combined dataframe\n",
    "combined_df.shape"
   ]
  },
  {
   "cell_type": "code",
   "execution_count": 55,
   "metadata": {},
   "outputs": [],
   "source": [
    "# close the connection to database\n",
    "conn.close()"
   ]
  },
  {
   "cell_type": "code",
   "execution_count": 56,
   "metadata": {},
   "outputs": [
    {
     "data": {
      "text/plain": [
       "Index(['index', 'State', 'Topic', 'Question', 'Data_Value',\n",
       "       'Low_Confidence_Limit', 'High_Confidence_Limit', 'Sample_Size',\n",
       "       'GeoLocation', 'ClassID', 'QuestionID', 'LocationID',\n",
       "       'StratificationCategory', 'Stratification', 'index:1', 'year',\n",
       "       'quarter', 'StateCode', 'State:1', 'Topic:1', 'policytopic', 'setting',\n",
       "       'title', 'status', 'citation', 'statusaltvalue', 'comments',\n",
       "       'displayorder', 'policytypeid', 'healthtopicid', 'policytopicid',\n",
       "       'settingid', 'provisionid', 'geolocation:1', 'index:2', 'State:2',\n",
       "       'Obesity rank', 'Obese adults (2000)', 'Obese adults (2020)',\n",
       "       'Overweight adults (2000)', 'Obese children and adolescents (2000)'],\n",
       "      dtype='object')"
      ]
     },
     "execution_count": 56,
     "metadata": {},
     "output_type": "execute_result"
    }
   ],
   "source": [
    "# Check the columns of combined_df\n",
    "combined_df.columns"
   ]
  },
  {
   "cell_type": "code",
   "execution_count": 57,
   "metadata": {},
   "outputs": [
    {
     "data": {
      "text/plain": [
       "<matplotlib.axes._subplots.AxesSubplot at 0x279f87a0be0>"
      ]
     },
     "execution_count": 57,
     "metadata": {},
     "output_type": "execute_result"
    },
    {
     "data": {
      "image/png": "[encoded data removed]",
      "text/plain": [
       "<Figure size 432x288 with 1 Axes>"
      ]
     },
     "metadata": {
      "needs_background": "light"
     },
     "output_type": "display_data"
    }
   ],
   "source": [
    "# Bar graph for the Topic variable\n",
    "combined_df.groupby('Topic').size().plot(kind='bar')"
   ]
  },
  {
   "cell_type": "code",
   "execution_count": 58,
   "metadata": {},
   "outputs": [
    {
     "data": {
      "text/plain": [
       "<matplotlib.axes._subplots.AxesSubplot at 0x27a19207310>"
      ]
     },
     "execution_count": 58,
     "metadata": {},
     "output_type": "execute_result"
    },
    {
     "data": {
      "image/png": "[encoded data removed]",
      "text/plain": [
       "<Figure size 432x288 with 1 Axes>"
      ]
     },
     "metadata": {},
     "output_type": "display_data"
    }
   ],
   "source": [
    "# Pie graph for the status variable\n",
    "combined_df.groupby('status').size().plot(kind='pie')"
   ]
  },
  {
   "cell_type": "code",
   "execution_count": 59,
   "metadata": {},
   "outputs": [
    {
     "data": {
      "text/plain": [
       "<matplotlib.axes._subplots.AxesSubplot at 0x2799d213dc0>"
      ]
     },
     "execution_count": 59,
     "metadata": {},
     "output_type": "execute_result"
    },
    {
     "data": {
      "image/png": "[encoded data removed]",
      "text/plain": [
       "<Figure size 432x288 with 1 Axes>"
      ]
     },
     "metadata": {
      "needs_background": "light"
     },
     "output_type": "display_data"
    }
   ],
   "source": [
    "# Bar graph for the setting variable\n",
    "combined_df.groupby('setting').size().plot(kind='bar')"
   ]
  },
  {
   "cell_type": "code",
   "execution_count": 60,
   "metadata": {},
   "outputs": [
    {
     "data": {
      "text/plain": [
       "<matplotlib.collections.PathCollection at 0x27a0c2fc760>"
      ]
     },
     "execution_count": 60,
     "metadata": {},
     "output_type": "execute_result"
    },
    {
     "data": {
      "image/png": "[encoded data removed]",
      "text/plain": [
       "<Figure size 432x288 with 1 Axes>"
      ]
     },
     "metadata": {
      "needs_background": "light"
     },
     "output_type": "display_data"
    }
   ],
   "source": [
    "# Scatter plot between obesity rank and Obese Adults in 2020. The relationship is strong negative as expected, since \n",
    "# the rank to the state was given based on the number of obese people in the state. \n",
    "plt.scatter(combined_df['Obesity rank'], combined_df['Obese adults (2020)'])"
   ]
  },
  {
   "cell_type": "code",
   "execution_count": 61,
   "metadata": {},
   "outputs": [
    {
     "data": {
      "text/plain": [
       "<matplotlib.collections.PathCollection at 0x27a19207a90>"
      ]
     },
     "execution_count": 61,
     "metadata": {},
     "output_type": "execute_result"
    },
    {
     "data": {
      "image/png": "[encoded data removed]",
      "text/plain": [
       "<Figure size 432x288 with 1 Axes>"
      ]
     },
     "metadata": {
      "needs_background": "light"
     },
     "output_type": "display_data"
    }
   ],
   "source": [
    "# Scatter plot between obesity rank and Obese Adults in 2000. The relationship was expected to be strong negative \n",
    "# similar to Obese adults in 2020, but the data points are not in straight line. Which means, the obesity numbers\n",
    "# changed from 2000 to 2020.\n",
    "plt.scatter(combined_df['Obesity rank'], combined_df['Obese adults (2000)'])"
   ]
  },
  {
   "cell_type": "code",
   "execution_count": 62,
   "metadata": {},
   "outputs": [
    {
     "data": {
      "text/plain": [
       "<matplotlib.collections.PathCollection at 0x27a19207340>"
      ]
     },
     "execution_count": 62,
     "metadata": {},
     "output_type": "execute_result"
    },
    {
     "data": {
      "image/png": "[encoded data removed]",
      "text/plain": [
       "<Figure size 432x288 with 1 Axes>"
      ]
     },
     "metadata": {
      "needs_background": "light"
     },
     "output_type": "display_data"
    }
   ],
   "source": [
    "# Scatter plot between obesity rank and Overweight Adults in 2000. The relationship was expected to be strong negative \n",
    "# similar to Obese adults in 2020, but the data points are not in straight line. Which means, the overweight numbers\n",
    "# are not in the same proportion as obese numbers.\n",
    "plt.scatter(combined_df['Obesity rank'], combined_df['Overweight adults (2000)'])"
   ]
  },
  {
   "cell_type": "code",
   "execution_count": 63,
   "metadata": {},
   "outputs": [
    {
     "data": {
      "text/plain": [
       "<matplotlib.collections.PathCollection at 0x27a21a9ff70>"
      ]
     },
     "execution_count": 63,
     "metadata": {},
     "output_type": "execute_result"
    },
    {
     "data": {
      "image/png": "[encoded data removed]",
      "text/plain": [
       "<Figure size 432x288 with 1 Axes>"
      ]
     },
     "metadata": {
      "needs_background": "light"
     },
     "output_type": "display_data"
    }
   ],
   "source": [
    "# Scatter plot between obesity rank and Obese children and adolescents in 2000. The relationship was expected to be \n",
    "# strong negative # similar to Obese adults in 2020, but the data points are spread all over. Which means, the number of\n",
    "# Obese children and adolescents is not in proportion of number of obese adults.\n",
    "plt.scatter(combined_df['Obesity rank'], combined_df['Obese children and adolescents (2000)'])"
   ]
  },
  {
   "cell_type": "code",
   "execution_count": null,
   "metadata": {},
   "outputs": [],
   "source": []
  }
 ],
 "metadata": {
  "kernelspec": {
   "display_name": "Python 3",
   "language": "python",
   "name": "python3"
  },
  "language_info": {
   "codemirror_mode": {
    "name": "ipython",
    "version": 3
   },
   "file_extension": ".py",
   "mimetype": "text/x-python",
   "name": "python",
   "nbconvert_exporter": "python",
   "pygments_lexer": "ipython3",
   "version": "3.8.3"
  }
 },
 "nbformat": 4,
 "nbformat_minor": 4
}
