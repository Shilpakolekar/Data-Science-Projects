{
 "cells": [
  {
   "cell_type": "raw",
   "metadata": {},
   "source": [
    "Shilpa Kolekar\n",
    "Obesity - Website data"
   ]
  },
  {
   "cell_type": "code",
   "execution_count": 3,
   "metadata": {},
   "outputs": [],
   "source": [
    "# Load necessary libraries\n",
    "\n",
    "import pandas as pd\n",
    "from bs4 import BeautifulSoup\n",
    "import requests \n",
    "import matplotlib.pyplot as plt\n",
    "%matplotlib inline"
   ]
  },
  {
   "cell_type": "code",
   "execution_count": 15,
   "metadata": {},
   "outputs": [],
   "source": [
    "# Read url from web page and save in \"url\" variable. Pass url in \"request.get()\" function and save it in \"response\". \n",
    "# Save the response in \"soup\" object of BeautifulSoup. \n",
    "url = \"https://en.wikipedia.org/wiki/Obesity_in_the_United_States\"\n",
    "response = requests.get(url)\n",
    "soup = BeautifulSoup(response.content,'html.parser')"
   ]
  },
  {
   "cell_type": "code",
   "execution_count": 16,
   "metadata": {},
   "outputs": [
    {
     "name": "stdout",
     "output_type": "stream",
     "text": [
      "Total number of tables are 14 \n"
     ]
    }
   ],
   "source": [
    "# Find all 'table' tags in soup object to find all tables from wiki page. Verify total number of tables on wiki \n",
    "# source code by finding \"<table\". There are 13 tables. \n",
    "total_tables = soup.find_all(\"table\")\n",
    "print(\"Total number of tables are {} \".format(len(total_tables)))"
   ]
  },
  {
   "cell_type": "code",
   "execution_count": 17,
   "metadata": {},
   "outputs": [
    {
     "name": "stdout",
     "output_type": "stream",
     "text": [
      "<class 'bs4.element.Tag'>\n"
     ]
    }
   ],
   "source": [
    "# Find wiki tables in the soup object by searching for class of 'wikitable'. \n",
    "# Make sure the type is \"Tag\" for the output.\n",
    "right_table = soup.find(\"table\", {\"class\": \"wikitable\"})\n",
    "print(type(right_table))"
   ]
  },
  {
   "cell_type": "code",
   "execution_count": 18,
   "metadata": {},
   "outputs": [
    {
     "name": "stdout",
     "output_type": "stream",
     "text": [
      "6\n"
     ]
    }
   ],
   "source": [
    "# Since there is only one wikitable, extract the table headers and confirm the number of columns using len() function. \n",
    "header_data = right_table.tbody.findAll('tr', recursive=False)[0]\n",
    "header_name_list = [th for th in header_data.findAll('th')]\n",
    "print(len(header_name_list))"
   ]
  },
  {
   "cell_type": "code",
   "execution_count": 19,
   "metadata": {},
   "outputs": [
    {
     "name": "stdout",
     "output_type": "stream",
     "text": [
      "['States, district, & territories', 'Obesity rank', 'Obese adults (mid-2000s)', 'Obese adults (2020)[80][75][81]', 'Overweight (incl. obese) adults(mid-2000s)', 'Obese children and adolescents(mid-2000s)[82]']\n"
     ]
    }
   ],
   "source": [
    "# Extract the text from header_name_list and strip whitespaces. Store the data in headers list and print the list.\n",
    "headers = [source.getText().strip() for source in header_name_list]\n",
    "print(headers)"
   ]
  },
  {
   "cell_type": "code",
   "execution_count": 20,
   "metadata": {},
   "outputs": [
    {
     "data": {
      "text/html": [
       "<div>\n",
       "<style scoped>\n",
       "    .dataframe tbody tr th:only-of-type {\n",
       "        vertical-align: middle;\n",
       "    }\n",
       "\n",
       "    .dataframe tbody tr th {\n",
       "        vertical-align: top;\n",
       "    }\n",
       "\n",
       "    .dataframe thead th {\n",
       "        text-align: right;\n",
       "    }\n",
       "</style>\n",
       "<table border=\"1\" class=\"dataframe\">\n",
       "  <thead>\n",
       "    <tr style=\"text-align: right;\">\n",
       "      <th></th>\n",
       "      <th>States, district, &amp; territories</th>\n",
       "      <th>Obesity rank</th>\n",
       "      <th>Obese adults (mid-2000s)</th>\n",
       "      <th>Obese adults (2020)[80][75][81]</th>\n",
       "      <th>Overweight (incl. obese) adults(mid-2000s)</th>\n",
       "      <th>Obese children and adolescents(mid-2000s)[82]</th>\n",
       "    </tr>\n",
       "  </thead>\n",
       "  <tbody>\n",
       "    <tr>\n",
       "      <th>0</th>\n",
       "      <td>Alabama</td>\n",
       "      <td>5</td>\n",
       "      <td>30.1%</td>\n",
       "      <td>36.3%</td>\n",
       "      <td>65.4%</td>\n",
       "      <td>16.7%</td>\n",
       "    </tr>\n",
       "    <tr>\n",
       "      <th>1</th>\n",
       "      <td>Alaska</td>\n",
       "      <td>9</td>\n",
       "      <td>27.3%</td>\n",
       "      <td>34.2%</td>\n",
       "      <td>64.5%</td>\n",
       "      <td>11.1%</td>\n",
       "    </tr>\n",
       "    <tr>\n",
       "      <th>2</th>\n",
       "      <td>American Samoa</td>\n",
       "      <td>—</td>\n",
       "      <td>—</td>\n",
       "      <td>75%[79]</td>\n",
       "      <td>95%[83]</td>\n",
       "      <td>35%[79][84]</td>\n",
       "    </tr>\n",
       "    <tr>\n",
       "      <th>3</th>\n",
       "      <td>Arizona</td>\n",
       "      <td>30</td>\n",
       "      <td>23.3%</td>\n",
       "      <td>29.5%</td>\n",
       "      <td>59.5%</td>\n",
       "      <td>12.2%</td>\n",
       "    </tr>\n",
       "    <tr>\n",
       "      <th>4</th>\n",
       "      <td>Arkansas</td>\n",
       "      <td>7</td>\n",
       "      <td>28.1%</td>\n",
       "      <td>35.0%</td>\n",
       "      <td>64.7%</td>\n",
       "      <td>16.4%</td>\n",
       "    </tr>\n",
       "  </tbody>\n",
       "</table>\n",
       "</div>"
      ],
      "text/plain": [
       "  States, district, & territories Obesity rank Obese adults (mid-2000s)  \\\n",
       "0                         Alabama            5                    30.1%   \n",
       "1                          Alaska            9                    27.3%   \n",
       "2                  American Samoa            —                        —   \n",
       "3                         Arizona           30                    23.3%   \n",
       "4                        Arkansas            7                    28.1%   \n",
       "\n",
       "  Obese adults (2020)[80][75][81] Overweight (incl. obese) adults(mid-2000s)  \\\n",
       "0                           36.3%                                      65.4%   \n",
       "1                           34.2%                                      64.5%   \n",
       "2                         75%[79]                                    95%[83]   \n",
       "3                           29.5%                                      59.5%   \n",
       "4                           35.0%                                      64.7%   \n",
       "\n",
       "  Obese children and adolescents(mid-2000s)[82]  \n",
       "0                                         16.7%  \n",
       "1                                         11.1%  \n",
       "2                                   35%[79][84]  \n",
       "3                                         12.2%  \n",
       "4                                         16.4%  "
      ]
     },
     "execution_count": 20,
     "metadata": {},
     "output_type": "execute_result"
    }
   ],
   "source": [
    "# Get table rows from right_table and store in rows. Search for table data for each row and store\n",
    "# the results in data_rows. Create a data frame using data_rows and headers. Use head() to check first few rows.\n",
    "rows = right_table.findAll('tbody')[0].findAll('tr')[1:]\n",
    "data_rows = [[td.get_text().strip() for td in tr.findAll('td')] for tr in rows]\n",
    "obesity_df = pd.DataFrame(data_rows, columns=headers)\n",
    "obesity_df.head()"
   ]
  },
  {
   "cell_type": "code",
   "execution_count": 21,
   "metadata": {},
   "outputs": [
    {
     "data": {
      "text/plain": [
       "(56, 6)"
      ]
     },
     "execution_count": 21,
     "metadata": {},
     "output_type": "execute_result"
    }
   ],
   "source": [
    "# Check the size of the dataframe using shape function\n",
    "obesity_df.shape"
   ]
  },
  {
   "cell_type": "markdown",
   "metadata": {},
   "source": [
    "# Replace Headers"
   ]
  },
  {
   "cell_type": "code",
   "execution_count": 22,
   "metadata": {},
   "outputs": [
    {
     "data": {
      "text/plain": [
       "Index(['States, district, & territories', 'Obesity rank',\n",
       "       'Obese adults (mid-2000s)', 'Obese adults (2020)[80][75][81]',\n",
       "       'Overweight (incl. obese) adults(mid-2000s)',\n",
       "       'Obese children and adolescents(mid-2000s)[82]'],\n",
       "      dtype='object')"
      ]
     },
     "execution_count": 22,
     "metadata": {},
     "output_type": "execute_result"
    }
   ],
   "source": [
    "# Check for all headers in dataframe\n",
    "obesity_df.columns"
   ]
  },
  {
   "cell_type": "code",
   "execution_count": 23,
   "metadata": {},
   "outputs": [
    {
     "data": {
      "text/plain": [
       "Index(['States, district, & territories', 'Obesity rank',\n",
       "       'Obese adults (2000)', 'Obese adults (2020)',\n",
       "       'Overweight adults (2000)', 'Obese children and adolescents (2000)'],\n",
       "      dtype='object')"
      ]
     },
     "execution_count": 23,
     "metadata": {},
     "output_type": "execute_result"
    }
   ],
   "source": [
    "# Below 4 headings are changed with more relevent headings:\n",
    "# Obese adults (mid-2000s)\n",
    "# Obese adults (2020)[78][73][79]\n",
    "# Overweight (incl. obese) adults(mid-2000s)\n",
    "# Obese children and adolescents(mid-2000s)[80]\n",
    "\n",
    "obesity_df.rename(columns={\"Obese adults (mid-2000s)\": \"Obese adults (2000)\", \n",
    "                           \"Obese adults (2020)[80][75][81]\": \"Obese adults (2020)\", \n",
    "                           \"Overweight (incl. obese) adults(mid-2000s)\": \"Overweight adults (2000)\",\n",
    "                           \"Obese children and adolescents(mid-2000s)[82]\": \"Obese children and adolescents (2000)\"}, \n",
    "                            inplace=True)\n",
    "\n",
    "obesity_df.columns"
   ]
  },
  {
   "cell_type": "markdown",
   "metadata": {},
   "source": [
    "# Find duplicates"
   ]
  },
  {
   "cell_type": "code",
   "execution_count": 24,
   "metadata": {},
   "outputs": [
    {
     "name": "stdout",
     "output_type": "stream",
     "text": [
      "States, district, & territories - False\n",
      "Obesity rank - True\n",
      "Obese adults (2000) - True\n",
      "Obese adults (2020) - True\n",
      "Overweight adults (2000) - True\n",
      "Obese children and adolescents (2000)  - True\n"
     ]
    }
   ],
   "source": [
    "# Find duplicates in all columns. \n",
    "\n",
    "print(\"States, district, & territories - {}\".format(any(obesity_df['States, district, & territories'].duplicated())))\n",
    "print(\"Obesity rank - {}\".format(any(obesity_df['Obesity rank'].duplicated())))\n",
    "print(\"Obese adults (2000) - {}\".format(any(obesity_df['Obese adults (2000)'].duplicated())))\n",
    "print(\"Obese adults (2020) - {}\".format(any(obesity_df['Obese adults (2020)'].duplicated())))\n",
    "print(\"Overweight adults (2000) - {}\".format(any(obesity_df['Overweight adults (2000)'].duplicated())))\n",
    "print(\"Obese children and adolescents (2000)  - {}\".format(any(obesity_df['Obese children and adolescents (2000)'].duplicated())))"
   ]
  },
  {
   "cell_type": "code",
   "execution_count": 25,
   "metadata": {},
   "outputs": [],
   "source": [
    "# apart from \"States, district, & territories\" column, all other columns can have duplicates, so no action needed. "
   ]
  },
  {
   "cell_type": "markdown",
   "metadata": {},
   "source": [
    "# Identify outliers and bad data"
   ]
  },
  {
   "cell_type": "code",
   "execution_count": 26,
   "metadata": {},
   "outputs": [
    {
     "data": {
      "text/plain": [
       "States, district, & territories          0\n",
       "Obesity rank                             0\n",
       "Obese adults (2000)                      0\n",
       "Obese adults (2020)                      0\n",
       "Overweight adults (2000)                 0\n",
       "Obese children and adolescents (2000)    0\n",
       "dtype: int64"
      ]
     },
     "execution_count": 26,
     "metadata": {},
     "output_type": "execute_result"
    }
   ],
   "source": [
    "# find Null values in dataframe and find total of the Null values\n",
    "obesity_df.isnull().sum()"
   ]
  },
  {
   "cell_type": "code",
   "execution_count": 27,
   "metadata": {},
   "outputs": [],
   "source": [
    "# No action is needed to remove null values as there are no null values"
   ]
  },
  {
   "cell_type": "code",
   "execution_count": 28,
   "metadata": {},
   "outputs": [],
   "source": [
    "# Look for bad data using head() function"
   ]
  },
  {
   "cell_type": "code",
   "execution_count": 29,
   "metadata": {},
   "outputs": [
    {
     "data": {
      "text/html": [
       "<div>\n",
       "<style scoped>\n",
       "    .dataframe tbody tr th:only-of-type {\n",
       "        vertical-align: middle;\n",
       "    }\n",
       "\n",
       "    .dataframe tbody tr th {\n",
       "        vertical-align: top;\n",
       "    }\n",
       "\n",
       "    .dataframe thead th {\n",
       "        text-align: right;\n",
       "    }\n",
       "</style>\n",
       "<table border=\"1\" class=\"dataframe\">\n",
       "  <thead>\n",
       "    <tr style=\"text-align: right;\">\n",
       "      <th></th>\n",
       "      <th>States, district, &amp; territories</th>\n",
       "      <th>Obesity rank</th>\n",
       "      <th>Obese adults (2000)</th>\n",
       "      <th>Obese adults (2020)</th>\n",
       "      <th>Overweight adults (2000)</th>\n",
       "      <th>Obese children and adolescents (2000)</th>\n",
       "    </tr>\n",
       "  </thead>\n",
       "  <tbody>\n",
       "    <tr>\n",
       "      <th>0</th>\n",
       "      <td>Alabama</td>\n",
       "      <td>5</td>\n",
       "      <td>30.1%</td>\n",
       "      <td>36.3%</td>\n",
       "      <td>65.4%</td>\n",
       "      <td>16.7%</td>\n",
       "    </tr>\n",
       "    <tr>\n",
       "      <th>1</th>\n",
       "      <td>Alaska</td>\n",
       "      <td>9</td>\n",
       "      <td>27.3%</td>\n",
       "      <td>34.2%</td>\n",
       "      <td>64.5%</td>\n",
       "      <td>11.1%</td>\n",
       "    </tr>\n",
       "    <tr>\n",
       "      <th>2</th>\n",
       "      <td>American Samoa</td>\n",
       "      <td>—</td>\n",
       "      <td>—</td>\n",
       "      <td>75%[79]</td>\n",
       "      <td>95%[83]</td>\n",
       "      <td>35%[79][84]</td>\n",
       "    </tr>\n",
       "    <tr>\n",
       "      <th>3</th>\n",
       "      <td>Arizona</td>\n",
       "      <td>30</td>\n",
       "      <td>23.3%</td>\n",
       "      <td>29.5%</td>\n",
       "      <td>59.5%</td>\n",
       "      <td>12.2%</td>\n",
       "    </tr>\n",
       "    <tr>\n",
       "      <th>4</th>\n",
       "      <td>Arkansas</td>\n",
       "      <td>7</td>\n",
       "      <td>28.1%</td>\n",
       "      <td>35.0%</td>\n",
       "      <td>64.7%</td>\n",
       "      <td>16.4%</td>\n",
       "    </tr>\n",
       "  </tbody>\n",
       "</table>\n",
       "</div>"
      ],
      "text/plain": [
       "  States, district, & territories Obesity rank Obese adults (2000)  \\\n",
       "0                         Alabama            5               30.1%   \n",
       "1                          Alaska            9               27.3%   \n",
       "2                  American Samoa            —                   —   \n",
       "3                         Arizona           30               23.3%   \n",
       "4                        Arkansas            7               28.1%   \n",
       "\n",
       "  Obese adults (2020) Overweight adults (2000)  \\\n",
       "0               36.3%                    65.4%   \n",
       "1               34.2%                    64.5%   \n",
       "2             75%[79]                  95%[83]   \n",
       "3               29.5%                    59.5%   \n",
       "4               35.0%                    64.7%   \n",
       "\n",
       "  Obese children and adolescents (2000)  \n",
       "0                                 16.7%  \n",
       "1                                 11.1%  \n",
       "2                           35%[79][84]  \n",
       "3                                 12.2%  \n",
       "4                                 16.4%  "
      ]
     },
     "execution_count": 29,
     "metadata": {},
     "output_type": "execute_result"
    }
   ],
   "source": [
    "obesity_df.head()"
   ]
  },
  {
   "cell_type": "code",
   "execution_count": 30,
   "metadata": {},
   "outputs": [
    {
     "data": {
      "text/plain": [
       "(56, 6)"
      ]
     },
     "execution_count": 30,
     "metadata": {},
     "output_type": "execute_result"
    }
   ],
   "source": [
    "# Check the size of the dataframe before removing rows\n",
    "obesity_df.shape"
   ]
  },
  {
   "cell_type": "code",
   "execution_count": 31,
   "metadata": {},
   "outputs": [],
   "source": [
    "# remove rows where obesity rank is \"—\"\n",
    "obesity_df=obesity_df[obesity_df['Obesity rank'] != '—']"
   ]
  },
  {
   "cell_type": "code",
   "execution_count": 32,
   "metadata": {},
   "outputs": [
    {
     "data": {
      "text/plain": [
       "(51, 6)"
      ]
     },
     "execution_count": 32,
     "metadata": {},
     "output_type": "execute_result"
    }
   ],
   "source": [
    "# Check the size of the dataframe after removing rows\n",
    "obesity_df.shape"
   ]
  },
  {
   "cell_type": "code",
   "execution_count": 33,
   "metadata": {},
   "outputs": [],
   "source": [
    "# Five rows were removed.\n",
    "\n",
    "# Use matplotlib to check outliers for \"Obese adults (2000)\", \"Obese adults (2020)\", \"Overweight adults (2000)\", \n",
    "# and \"Obese children and adolescents (2000)\" columns"
   ]
  },
  {
   "cell_type": "code",
   "execution_count": 34,
   "metadata": {},
   "outputs": [
    {
     "data": {
      "text/html": [
       "<div>\n",
       "<style scoped>\n",
       "    .dataframe tbody tr th:only-of-type {\n",
       "        vertical-align: middle;\n",
       "    }\n",
       "\n",
       "    .dataframe tbody tr th {\n",
       "        vertical-align: top;\n",
       "    }\n",
       "\n",
       "    .dataframe thead th {\n",
       "        text-align: right;\n",
       "    }\n",
       "</style>\n",
       "<table border=\"1\" class=\"dataframe\">\n",
       "  <thead>\n",
       "    <tr style=\"text-align: right;\">\n",
       "      <th></th>\n",
       "      <th>States, district, &amp; territories</th>\n",
       "      <th>Obesity rank</th>\n",
       "      <th>Obese adults (2000)</th>\n",
       "      <th>Obese adults (2020)</th>\n",
       "      <th>Overweight adults (2000)</th>\n",
       "      <th>Obese children and adolescents (2000)</th>\n",
       "    </tr>\n",
       "  </thead>\n",
       "  <tbody>\n",
       "    <tr>\n",
       "      <th>0</th>\n",
       "      <td>Alabama</td>\n",
       "      <td>5</td>\n",
       "      <td>30.1</td>\n",
       "      <td>36.3</td>\n",
       "      <td>65.4</td>\n",
       "      <td>16.7</td>\n",
       "    </tr>\n",
       "    <tr>\n",
       "      <th>1</th>\n",
       "      <td>Alaska</td>\n",
       "      <td>9</td>\n",
       "      <td>27.3</td>\n",
       "      <td>34.2</td>\n",
       "      <td>64.5</td>\n",
       "      <td>11.1</td>\n",
       "    </tr>\n",
       "    <tr>\n",
       "      <th>3</th>\n",
       "      <td>Arizona</td>\n",
       "      <td>30</td>\n",
       "      <td>23.3</td>\n",
       "      <td>29.5</td>\n",
       "      <td>59.5</td>\n",
       "      <td>12.2</td>\n",
       "    </tr>\n",
       "    <tr>\n",
       "      <th>4</th>\n",
       "      <td>Arkansas</td>\n",
       "      <td>7</td>\n",
       "      <td>28.1</td>\n",
       "      <td>35.0</td>\n",
       "      <td>64.7</td>\n",
       "      <td>16.4</td>\n",
       "    </tr>\n",
       "    <tr>\n",
       "      <th>5</th>\n",
       "      <td>California</td>\n",
       "      <td>48</td>\n",
       "      <td>23.1</td>\n",
       "      <td>25.1</td>\n",
       "      <td>59.4</td>\n",
       "      <td>13.2</td>\n",
       "    </tr>\n",
       "  </tbody>\n",
       "</table>\n",
       "</div>"
      ],
      "text/plain": [
       "  States, district, & territories Obesity rank  Obese adults (2000)  \\\n",
       "0                         Alabama            5                 30.1   \n",
       "1                          Alaska            9                 27.3   \n",
       "3                         Arizona           30                 23.3   \n",
       "4                        Arkansas            7                 28.1   \n",
       "5                      California           48                 23.1   \n",
       "\n",
       "   Obese adults (2020)  Overweight adults (2000)  \\\n",
       "0                 36.3                      65.4   \n",
       "1                 34.2                      64.5   \n",
       "3                 29.5                      59.5   \n",
       "4                 35.0                      64.7   \n",
       "5                 25.1                      59.4   \n",
       "\n",
       "   Obese children and adolescents (2000)  \n",
       "0                                   16.7  \n",
       "1                                   11.1  \n",
       "3                                   12.2  \n",
       "4                                   16.4  \n",
       "5                                   13.2  "
      ]
     },
     "execution_count": 34,
     "metadata": {},
     "output_type": "execute_result"
    }
   ],
   "source": [
    "# Since the values should be int or float for plotting, remove % value from the string and convert then to float\n",
    "\n",
    "obesity_df['Obese adults (2000)'] = obesity_df['Obese adults (2000)'].str.replace('%','')\n",
    "obesity_df['Obese adults (2020)'] = obesity_df['Obese adults (2020)'].str.replace('%','')\n",
    "obesity_df['Overweight adults (2000)'] = obesity_df['Overweight adults (2000)'].str.replace('%','')\n",
    "obesity_df['Obese children and adolescents (2000)'] = obesity_df['Obese children and adolescents (2000)'].str.replace('%','')\n",
    "obesity_df['Obese adults (2000)'] = obesity_df['Obese adults (2000)'].astype(float)\n",
    "obesity_df['Obese adults (2020)'] = obesity_df['Obese adults (2020)'].astype(float)\n",
    "obesity_df['Overweight adults (2000)'] = obesity_df['Overweight adults (2000)'].astype(float)\n",
    "obesity_df['Obese children and adolescents (2000)'] = obesity_df['Obese children and adolescents (2000)'].astype(float)\n",
    "obesity_df.head()"
   ]
  },
  {
   "cell_type": "code",
   "execution_count": 35,
   "metadata": {},
   "outputs": [
    {
     "data": {
      "text/plain": [
       "{'whiskers': [<matplotlib.lines.Line2D at 0x20cff5dcd90>,\n",
       "  <matplotlib.lines.Line2D at 0x20cff5f3130>],\n",
       " 'caps': [<matplotlib.lines.Line2D at 0x20cff5f3490>,\n",
       "  <matplotlib.lines.Line2D at 0x20cff5f37f0>],\n",
       " 'boxes': [<matplotlib.lines.Line2D at 0x20cff5dca30>],\n",
       " 'medians': [<matplotlib.lines.Line2D at 0x20cff5f3b50>],\n",
       " 'fliers': [<matplotlib.lines.Line2D at 0x20cff5f3e50>],\n",
       " 'means': []}"
      ]
     },
     "execution_count": 35,
     "metadata": {},
     "output_type": "execute_result"
    },
    {
     "data": {
      "image/png": "[encoded data removed]",
      "text/plain": [
       "<Figure size 432x288 with 1 Axes>"
      ]
     },
     "metadata": {
      "needs_background": "light"
     },
     "output_type": "display_data"
    }
   ],
   "source": [
    "# plot the box plot to view outliers for 'Obese adults (2000)'.  \n",
    "plt.boxplot(obesity_df['Obese adults (2000)'])"
   ]
  },
  {
   "cell_type": "code",
   "execution_count": 36,
   "metadata": {},
   "outputs": [
    {
     "data": {
      "text/plain": [
       "{'whiskers': [<matplotlib.lines.Line2D at 0x20cff680d30>,\n",
       "  <matplotlib.lines.Line2D at 0x20cff68d0d0>],\n",
       " 'caps': [<matplotlib.lines.Line2D at 0x20cff68d430>,\n",
       "  <matplotlib.lines.Line2D at 0x20cff68d790>],\n",
       " 'boxes': [<matplotlib.lines.Line2D at 0x20cff680a90>],\n",
       " 'medians': [<matplotlib.lines.Line2D at 0x20cff68daf0>],\n",
       " 'fliers': [<matplotlib.lines.Line2D at 0x20cff68ddf0>],\n",
       " 'means': []}"
      ]
     },
     "execution_count": 36,
     "metadata": {},
     "output_type": "execute_result"
    },
    {
     "data": {
      "image/png": "[encoded data removed]",
      "text/plain": [
       "<Figure size 432x288 with 1 Axes>"
      ]
     },
     "metadata": {
      "needs_background": "light"
     },
     "output_type": "display_data"
    }
   ],
   "source": [
    "# plot the box plot to view outliers for 'Obese adults (2020)'.  \n",
    "plt.boxplot(obesity_df['Obese adults (2020)'])"
   ]
  },
  {
   "cell_type": "code",
   "execution_count": 37,
   "metadata": {},
   "outputs": [
    {
     "data": {
      "text/plain": [
       "{'whiskers': [<matplotlib.lines.Line2D at 0x20cff6eb880>,\n",
       "  <matplotlib.lines.Line2D at 0x20cff6ebbe0>],\n",
       " 'caps': [<matplotlib.lines.Line2D at 0x20cff6ebf40>,\n",
       "  <matplotlib.lines.Line2D at 0x20cff6f82e0>],\n",
       " 'boxes': [<matplotlib.lines.Line2D at 0x20cff6eb5b0>],\n",
       " 'medians': [<matplotlib.lines.Line2D at 0x20cff6f8640>],\n",
       " 'fliers': [<matplotlib.lines.Line2D at 0x20cff6f8910>],\n",
       " 'means': []}"
      ]
     },
     "execution_count": 37,
     "metadata": {},
     "output_type": "execute_result"
    },
    {
     "data": {
      "image/png": "[encoded data removed]",
      "text/plain": [
       "<Figure size 432x288 with 1 Axes>"
      ]
     },
     "metadata": {
      "needs_background": "light"
     },
     "output_type": "display_data"
    }
   ],
   "source": [
    "# plot the box plot to view outliers for 'Overweight adults (2000)'.  \n",
    "plt.boxplot(obesity_df['Overweight adults (2000)'])"
   ]
  },
  {
   "cell_type": "code",
   "execution_count": 38,
   "metadata": {},
   "outputs": [
    {
     "data": {
      "text/plain": [
       "{'whiskers': [<matplotlib.lines.Line2D at 0x20cff6ac5e0>,\n",
       "  <matplotlib.lines.Line2D at 0x20cff6b92b0>],\n",
       " 'caps': [<matplotlib.lines.Line2D at 0x20cff649460>,\n",
       "  <matplotlib.lines.Line2D at 0x20cff649e50>],\n",
       " 'boxes': [<matplotlib.lines.Line2D at 0x20cff6aca60>],\n",
       " 'medians': [<matplotlib.lines.Line2D at 0x20cff6388e0>],\n",
       " 'fliers': [<matplotlib.lines.Line2D at 0x20cff638910>],\n",
       " 'means': []}"
      ]
     },
     "execution_count": 38,
     "metadata": {},
     "output_type": "execute_result"
    },
    {
     "data": {
      "image/png": "[encoded data removed]",
      "text/plain": [
       "<Figure size 432x288 with 1 Axes>"
      ]
     },
     "metadata": {
      "needs_background": "light"
     },
     "output_type": "display_data"
    }
   ],
   "source": [
    "# plot the box plot to view outliers for 'Obese children and adolescents (2000)'.  \n",
    "plt.boxplot(obesity_df['Obese children and adolescents (2000)'])"
   ]
  },
  {
   "cell_type": "code",
   "execution_count": 39,
   "metadata": {},
   "outputs": [],
   "source": [
    "# While there are outliers for three columns, it is necessary to keep them in the data frame for further comparison and \n",
    "# analysis. Not removing outliers at this time."
   ]
  },
  {
   "cell_type": "markdown",
   "metadata": {},
   "source": [
    "# Format data into a more readable format"
   ]
  },
  {
   "cell_type": "code",
   "execution_count": 40,
   "metadata": {},
   "outputs": [
    {
     "data": {
      "text/html": [
       "<div>\n",
       "<style scoped>\n",
       "    .dataframe tbody tr th:only-of-type {\n",
       "        vertical-align: middle;\n",
       "    }\n",
       "\n",
       "    .dataframe tbody tr th {\n",
       "        vertical-align: top;\n",
       "    }\n",
       "\n",
       "    .dataframe thead th {\n",
       "        text-align: right;\n",
       "    }\n",
       "</style>\n",
       "<table border=\"1\" class=\"dataframe\">\n",
       "  <thead>\n",
       "    <tr style=\"text-align: right;\">\n",
       "      <th></th>\n",
       "      <th>States, district, &amp; territories</th>\n",
       "      <th>Obesity rank</th>\n",
       "      <th>Obese adults (2000)</th>\n",
       "      <th>Obese adults (2020)</th>\n",
       "      <th>Overweight adults (2000)</th>\n",
       "      <th>Obese children and adolescents (2000)</th>\n",
       "    </tr>\n",
       "  </thead>\n",
       "  <tbody>\n",
       "    <tr>\n",
       "      <th>0</th>\n",
       "      <td>Alabama</td>\n",
       "      <td>5</td>\n",
       "      <td>30.1</td>\n",
       "      <td>36.3</td>\n",
       "      <td>65.4</td>\n",
       "      <td>16.7</td>\n",
       "    </tr>\n",
       "    <tr>\n",
       "      <th>1</th>\n",
       "      <td>Alaska</td>\n",
       "      <td>9</td>\n",
       "      <td>27.3</td>\n",
       "      <td>34.2</td>\n",
       "      <td>64.5</td>\n",
       "      <td>11.1</td>\n",
       "    </tr>\n",
       "    <tr>\n",
       "      <th>3</th>\n",
       "      <td>Arizona</td>\n",
       "      <td>30</td>\n",
       "      <td>23.3</td>\n",
       "      <td>29.5</td>\n",
       "      <td>59.5</td>\n",
       "      <td>12.2</td>\n",
       "    </tr>\n",
       "    <tr>\n",
       "      <th>4</th>\n",
       "      <td>Arkansas</td>\n",
       "      <td>7</td>\n",
       "      <td>28.1</td>\n",
       "      <td>35.0</td>\n",
       "      <td>64.7</td>\n",
       "      <td>16.4</td>\n",
       "    </tr>\n",
       "    <tr>\n",
       "      <th>5</th>\n",
       "      <td>California</td>\n",
       "      <td>48</td>\n",
       "      <td>23.1</td>\n",
       "      <td>25.1</td>\n",
       "      <td>59.4</td>\n",
       "      <td>13.2</td>\n",
       "    </tr>\n",
       "  </tbody>\n",
       "</table>\n",
       "</div>"
      ],
      "text/plain": [
       "  States, district, & territories Obesity rank  Obese adults (2000)  \\\n",
       "0                         Alabama            5                 30.1   \n",
       "1                          Alaska            9                 27.3   \n",
       "3                         Arizona           30                 23.3   \n",
       "4                        Arkansas            7                 28.1   \n",
       "5                      California           48                 23.1   \n",
       "\n",
       "   Obese adults (2020)  Overweight adults (2000)  \\\n",
       "0                 36.3                      65.4   \n",
       "1                 34.2                      64.5   \n",
       "3                 29.5                      59.5   \n",
       "4                 35.0                      64.7   \n",
       "5                 25.1                      59.4   \n",
       "\n",
       "   Obese children and adolescents (2000)  \n",
       "0                                   16.7  \n",
       "1                                   11.1  \n",
       "3                                   12.2  \n",
       "4                                   16.4  \n",
       "5                                   13.2  "
      ]
     },
     "execution_count": 40,
     "metadata": {},
     "output_type": "execute_result"
    }
   ],
   "source": [
    "# check the dataframe for readable format\n",
    "obesity_df.head()"
   ]
  },
  {
   "cell_type": "code",
   "execution_count": 41,
   "metadata": {},
   "outputs": [],
   "source": [
    "# all data in the dataframe is in readable format, no need to change the format"
   ]
  },
  {
   "cell_type": "markdown",
   "metadata": {},
   "source": [
    "# Fix casing or inconsistent values"
   ]
  },
  {
   "cell_type": "code",
   "execution_count": 42,
   "metadata": {},
   "outputs": [
    {
     "data": {
      "text/html": [
       "<div>\n",
       "<style scoped>\n",
       "    .dataframe tbody tr th:only-of-type {\n",
       "        vertical-align: middle;\n",
       "    }\n",
       "\n",
       "    .dataframe tbody tr th {\n",
       "        vertical-align: top;\n",
       "    }\n",
       "\n",
       "    .dataframe thead th {\n",
       "        text-align: right;\n",
       "    }\n",
       "</style>\n",
       "<table border=\"1\" class=\"dataframe\">\n",
       "  <thead>\n",
       "    <tr style=\"text-align: right;\">\n",
       "      <th></th>\n",
       "      <th>States, district, &amp; territories</th>\n",
       "      <th>Obesity rank</th>\n",
       "      <th>Obese adults (2000)</th>\n",
       "      <th>Obese adults (2020)</th>\n",
       "      <th>Overweight adults (2000)</th>\n",
       "      <th>Obese children and adolescents (2000)</th>\n",
       "    </tr>\n",
       "  </thead>\n",
       "  <tbody>\n",
       "    <tr>\n",
       "      <th>0</th>\n",
       "      <td>Alabama</td>\n",
       "      <td>5</td>\n",
       "      <td>30.1</td>\n",
       "      <td>36.3</td>\n",
       "      <td>65.4</td>\n",
       "      <td>16.7</td>\n",
       "    </tr>\n",
       "    <tr>\n",
       "      <th>1</th>\n",
       "      <td>Alaska</td>\n",
       "      <td>9</td>\n",
       "      <td>27.3</td>\n",
       "      <td>34.2</td>\n",
       "      <td>64.5</td>\n",
       "      <td>11.1</td>\n",
       "    </tr>\n",
       "    <tr>\n",
       "      <th>3</th>\n",
       "      <td>Arizona</td>\n",
       "      <td>30</td>\n",
       "      <td>23.3</td>\n",
       "      <td>29.5</td>\n",
       "      <td>59.5</td>\n",
       "      <td>12.2</td>\n",
       "    </tr>\n",
       "    <tr>\n",
       "      <th>4</th>\n",
       "      <td>Arkansas</td>\n",
       "      <td>7</td>\n",
       "      <td>28.1</td>\n",
       "      <td>35.0</td>\n",
       "      <td>64.7</td>\n",
       "      <td>16.4</td>\n",
       "    </tr>\n",
       "    <tr>\n",
       "      <th>5</th>\n",
       "      <td>California</td>\n",
       "      <td>48</td>\n",
       "      <td>23.1</td>\n",
       "      <td>25.1</td>\n",
       "      <td>59.4</td>\n",
       "      <td>13.2</td>\n",
       "    </tr>\n",
       "  </tbody>\n",
       "</table>\n",
       "</div>"
      ],
      "text/plain": [
       "  States, district, & territories Obesity rank  Obese adults (2000)  \\\n",
       "0                         Alabama            5                 30.1   \n",
       "1                          Alaska            9                 27.3   \n",
       "3                         Arizona           30                 23.3   \n",
       "4                        Arkansas            7                 28.1   \n",
       "5                      California           48                 23.1   \n",
       "\n",
       "   Obese adults (2020)  Overweight adults (2000)  \\\n",
       "0                 36.3                      65.4   \n",
       "1                 34.2                      64.5   \n",
       "3                 29.5                      59.5   \n",
       "4                 35.0                      64.7   \n",
       "5                 25.1                      59.4   \n",
       "\n",
       "   Obese children and adolescents (2000)  \n",
       "0                                   16.7  \n",
       "1                                   11.1  \n",
       "3                                   12.2  \n",
       "4                                   16.4  \n",
       "5                                   13.2  "
      ]
     },
     "execution_count": 42,
     "metadata": {},
     "output_type": "execute_result"
    }
   ],
   "source": [
    "# check the dataframe for casing and inconsistent values\n",
    "obesity_df.head()"
   ]
  },
  {
   "cell_type": "code",
   "execution_count": 43,
   "metadata": {},
   "outputs": [],
   "source": [
    "# all data in the dataframe is in proper format and consistent, no need to change the casing or incosistencies"
   ]
  },
  {
   "cell_type": "code",
   "execution_count": 44,
   "metadata": {},
   "outputs": [],
   "source": [
    "obesity_df.to_csv('obesity.csv', index=False)"
   ]
  },
  {
   "cell_type": "code",
   "execution_count": null,
   "metadata": {},
   "outputs": [],
   "source": []
  }
 ],
 "metadata": {
  "kernelspec": {
   "display_name": "Python 3",
   "language": "python",
   "name": "python3"
  },
  "language_info": {
   "codemirror_mode": {
    "name": "ipython",
    "version": 3
   },
   "file_extension": ".py",
   "mimetype": "text/x-python",
   "name": "python",
   "nbconvert_exporter": "python",
   "pygments_lexer": "ipython3",
   "version": "3.8.3"
  }
 },
 "nbformat": 4,
 "nbformat_minor": 4
}
