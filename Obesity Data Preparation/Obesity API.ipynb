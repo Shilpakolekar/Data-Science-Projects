{
 "cells": [
  {
   "cell_type": "raw",
   "metadata": {},
   "source": [
    "Shilpa Kolekar\n",
    "Obesity - API Data"
   ]
  },
  {
   "cell_type": "code",
   "execution_count": 1,
   "metadata": {},
   "outputs": [],
   "source": [
    "# Load necessary libraries\n",
    "import requests\n",
    "import json\n",
    "import pandas as pd\n",
    "import matplotlib.pyplot as plt\n",
    "%matplotlib inline"
   ]
  },
  {
   "cell_type": "code",
   "execution_count": 2,
   "metadata": {},
   "outputs": [],
   "source": [
    "# CDC Nutrition, Physical Activity, and Obesity - Legislation | Socrata API Foundry – This dataset has\n",
    "# 2001-2017 data which includes data for state regulation on nutrition, physical activity, and obesity.\n",
    "# Save CDC website into 'url' variable \n",
    "url = 'https://chronicdata.cdc.gov/resource/nxst-x9p4.json'"
   ]
  },
  {
   "cell_type": "code",
   "execution_count": 3,
   "metadata": {},
   "outputs": [],
   "source": [
    "# read the CDC website json data using request.get() and save in 'response' variable \n",
    "response = requests.get(url)\n",
    "# Load json data in \"json_data\" varaible\n",
    "json_data = json.loads(response.text)"
   ]
  },
  {
   "cell_type": "code",
   "execution_count": 4,
   "metadata": {},
   "outputs": [],
   "source": [
    "# create a list with keys that are expected from the json data\n",
    "list_keys=['year', 'quarter', 'locationabbr', 'locationdesc', 'topicdesc', 'policytopic', 'datasource', 'setting', \n",
    "           'title', 'status', 'citation', 'statusaltvalue', 'datatype', 'comments', 'displayorder', 'policytypeid',\n",
    "           'healthtopicid', 'policytopicid', 'settingid', 'provisionid', ':@computed_region_bxsw_vy29',\n",
    "           ':@computed_region_he4y_prf8', 'geolocation']"
   ]
  },
  {
   "cell_type": "code",
   "execution_count": 5,
   "metadata": {},
   "outputs": [],
   "source": [
    "# create empty list name 'table_data'\n",
    "table_data = []\n",
    "\n",
    "# loop through the list of keys and save json data for each key\n",
    "# each iteraton will save each record into 'row_data' list and will be appended to the table_data list\n",
    "for i in range(len(json_data)):\n",
    "    # create empty list \"row_data\"\n",
    "    row_data = []\n",
    "    # Loop through list_keys and extract values for the keys from json_data\n",
    "    for k in list_keys:\n",
    "        if k in list(json_data[i].keys()):\n",
    "            # 'geolocation' is only variable in list_keys which has two sub keys 'latitude' and 'longitude'\n",
    "            # Adding 'geolocation' sub-keys 'latitude' and 'longitude' and saving combined value in geolocation \n",
    "            if k == 'geolocation':\n",
    "                txt = '(' + json_data[i][k]['latitude'] + ', ' + json_data[i][k]['longitude'] + ')'\n",
    "                row_data.append(txt)\n",
    "            else:\n",
    "                row_data.append(json_data[i][k])\n",
    "    \n",
    "    # each record from row_data list is saved to 'table_data' list after each itaration \n",
    "    table_data.append(row_data)"
   ]
  },
  {
   "cell_type": "code",
   "execution_count": 6,
   "metadata": {},
   "outputs": [],
   "source": [
    "# create dataframe 'cdc_df' using 'table_data' and 'list_keys' as column names\n",
    "cdc_df = pd.DataFrame(table_data, columns=list_keys)"
   ]
  },
  {
   "cell_type": "code",
   "execution_count": 7,
   "metadata": {},
   "outputs": [
    {
     "data": {
      "text/html": [
       "<div>\n",
       "<style scoped>\n",
       "    .dataframe tbody tr th:only-of-type {\n",
       "        vertical-align: middle;\n",
       "    }\n",
       "\n",
       "    .dataframe tbody tr th {\n",
       "        vertical-align: top;\n",
       "    }\n",
       "\n",
       "    .dataframe thead th {\n",
       "        text-align: right;\n",
       "    }\n",
       "</style>\n",
       "<table border=\"1\" class=\"dataframe\">\n",
       "  <thead>\n",
       "    <tr style=\"text-align: right;\">\n",
       "      <th></th>\n",
       "      <th>year</th>\n",
       "      <th>quarter</th>\n",
       "      <th>locationabbr</th>\n",
       "      <th>locationdesc</th>\n",
       "      <th>topicdesc</th>\n",
       "      <th>policytopic</th>\n",
       "      <th>datasource</th>\n",
       "      <th>setting</th>\n",
       "      <th>title</th>\n",
       "      <th>status</th>\n",
       "      <th>...</th>\n",
       "      <th>comments</th>\n",
       "      <th>displayorder</th>\n",
       "      <th>policytypeid</th>\n",
       "      <th>healthtopicid</th>\n",
       "      <th>policytopicid</th>\n",
       "      <th>settingid</th>\n",
       "      <th>provisionid</th>\n",
       "      <th>:@computed_region_bxsw_vy29</th>\n",
       "      <th>:@computed_region_he4y_prf8</th>\n",
       "      <th>geolocation</th>\n",
       "    </tr>\n",
       "  </thead>\n",
       "  <tbody>\n",
       "    <tr>\n",
       "      <th>0</th>\n",
       "      <td>2010</td>\n",
       "      <td>1</td>\n",
       "      <td>NY</td>\n",
       "      <td>New York</td>\n",
       "      <td>Obesity</td>\n",
       "      <td>Incentives</td>\n",
       "      <td>DNPAO</td>\n",
       "      <td>Community</td>\n",
       "      <td>State Fiscal Plan</td>\n",
       "      <td>Dead</td>\n",
       "      <td>...</td>\n",
       "      <td>(Abstract - Enacts into law major components o...</td>\n",
       "      <td>38</td>\n",
       "      <td>LEG</td>\n",
       "      <td>002OB</td>\n",
       "      <td>029INC</td>\n",
       "      <td>002COM</td>\n",
       "      <td>1641</td>\n",
       "      <td>47</td>\n",
       "      <td>2092</td>\n",
       "      <td>(42.827001032, -75.543970427)</td>\n",
       "    </tr>\n",
       "    <tr>\n",
       "      <th>1</th>\n",
       "      <td>2011</td>\n",
       "      <td>1</td>\n",
       "      <td>WV</td>\n",
       "      <td>West Virginia</td>\n",
       "      <td>Nutrition</td>\n",
       "      <td>Appropriations</td>\n",
       "      <td>DNPAO</td>\n",
       "      <td>Community</td>\n",
       "      <td>Sales Tax on Food</td>\n",
       "      <td>Dead</td>\n",
       "      <td>...</td>\n",
       "      <td>(Abstract - Eliminates the sales tax on food e...</td>\n",
       "      <td>2</td>\n",
       "      <td>LEG</td>\n",
       "      <td>001NUT</td>\n",
       "      <td>002APP</td>\n",
       "      <td>002COM</td>\n",
       "      <td>4781</td>\n",
       "      <td>42</td>\n",
       "      <td>2749</td>\n",
       "      <td>(38.665510202, -80.712640135)</td>\n",
       "    </tr>\n",
       "    <tr>\n",
       "      <th>2</th>\n",
       "      <td>2011</td>\n",
       "      <td>1</td>\n",
       "      <td>MA</td>\n",
       "      <td>Massachusetts</td>\n",
       "      <td>Physical Activity</td>\n",
       "      <td>Built Environment and Street-Scale Design</td>\n",
       "      <td>DNPAO</td>\n",
       "      <td>Community</td>\n",
       "      <td>Pedestrian Safety</td>\n",
       "      <td>Dead</td>\n",
       "      <td>...</td>\n",
       "      <td>(Abstract - Relates to pedestrian safety.   ),...</td>\n",
       "      <td>68</td>\n",
       "      <td>LEG</td>\n",
       "      <td>003PA</td>\n",
       "      <td>049BED</td>\n",
       "      <td>002COM</td>\n",
       "      <td>4090</td>\n",
       "      <td>25</td>\n",
       "      <td>1919</td>\n",
       "      <td>(42.27687047, -72.082690675)</td>\n",
       "    </tr>\n",
       "    <tr>\n",
       "      <th>3</th>\n",
       "      <td>2010</td>\n",
       "      <td>1</td>\n",
       "      <td>NC</td>\n",
       "      <td>North Carolina</td>\n",
       "      <td>Obesity</td>\n",
       "      <td>Menu Labeling</td>\n",
       "      <td>DNPAO</td>\n",
       "      <td>Community</td>\n",
       "      <td>Governors Budget</td>\n",
       "      <td>Dead</td>\n",
       "      <td>...</td>\n",
       "      <td>(Abstract - Concerns governors budget. ), (Bil...</td>\n",
       "      <td>41</td>\n",
       "      <td>LEG</td>\n",
       "      <td>002OB</td>\n",
       "      <td>032MNL</td>\n",
       "      <td>002COM</td>\n",
       "      <td>2908</td>\n",
       "      <td>37</td>\n",
       "      <td>2390</td>\n",
       "      <td>(35.466220975, -79.159250463)</td>\n",
       "    </tr>\n",
       "    <tr>\n",
       "      <th>4</th>\n",
       "      <td>2011</td>\n",
       "      <td>1</td>\n",
       "      <td>FL</td>\n",
       "      <td>Florida</td>\n",
       "      <td>Physical Activity</td>\n",
       "      <td>Parks, Recreation and Trails</td>\n",
       "      <td>DNPAO</td>\n",
       "      <td>School/After School</td>\n",
       "      <td>Chronic Diseases&lt;br&gt;</td>\n",
       "      <td>Dead</td>\n",
       "      <td>...</td>\n",
       "      <td>(Abstract - \"Creates the chronic disease preve...</td>\n",
       "      <td>59</td>\n",
       "      <td>LEG</td>\n",
       "      <td>003PA</td>\n",
       "      <td>034PRT</td>\n",
       "      <td>004SAS</td>\n",
       "      <td>5615</td>\n",
       "      <td>30</td>\n",
       "      <td>1112</td>\n",
       "      <td>(28.932040377, -81.928960539)</td>\n",
       "    </tr>\n",
       "  </tbody>\n",
       "</table>\n",
       "<p>5 rows × 23 columns</p>\n",
       "</div>"
      ],
      "text/plain": [
       "   year quarter locationabbr    locationdesc          topicdesc  \\\n",
       "0  2010       1           NY        New York            Obesity   \n",
       "1  2011       1           WV   West Virginia          Nutrition   \n",
       "2  2011       1           MA   Massachusetts  Physical Activity   \n",
       "3  2010       1           NC  North Carolina            Obesity   \n",
       "4  2011       1           FL         Florida  Physical Activity   \n",
       "\n",
       "                                 policytopic datasource              setting  \\\n",
       "0                                 Incentives      DNPAO            Community   \n",
       "1                             Appropriations      DNPAO            Community   \n",
       "2  Built Environment and Street-Scale Design      DNPAO            Community   \n",
       "3                              Menu Labeling      DNPAO            Community   \n",
       "4               Parks, Recreation and Trails      DNPAO  School/After School   \n",
       "\n",
       "                  title status  ...  \\\n",
       "0     State Fiscal Plan   Dead  ...   \n",
       "1     Sales Tax on Food   Dead  ...   \n",
       "2     Pedestrian Safety   Dead  ...   \n",
       "3      Governors Budget   Dead  ...   \n",
       "4  Chronic Diseases<br>   Dead  ...   \n",
       "\n",
       "                                            comments displayorder  \\\n",
       "0  (Abstract - Enacts into law major components o...           38   \n",
       "1  (Abstract - Eliminates the sales tax on food e...            2   \n",
       "2  (Abstract - Relates to pedestrian safety.   ),...           68   \n",
       "3  (Abstract - Concerns governors budget. ), (Bil...           41   \n",
       "4  (Abstract - \"Creates the chronic disease preve...           59   \n",
       "\n",
       "  policytypeid healthtopicid policytopicid settingid provisionid  \\\n",
       "0          LEG         002OB        029INC    002COM        1641   \n",
       "1          LEG        001NUT        002APP    002COM        4781   \n",
       "2          LEG         003PA        049BED    002COM        4090   \n",
       "3          LEG         002OB        032MNL    002COM        2908   \n",
       "4          LEG         003PA        034PRT    004SAS        5615   \n",
       "\n",
       "  :@computed_region_bxsw_vy29 :@computed_region_he4y_prf8  \\\n",
       "0                          47                        2092   \n",
       "1                          42                        2749   \n",
       "2                          25                        1919   \n",
       "3                          37                        2390   \n",
       "4                          30                        1112   \n",
       "\n",
       "                     geolocation  \n",
       "0  (42.827001032, -75.543970427)  \n",
       "1  (38.665510202, -80.712640135)  \n",
       "2   (42.27687047, -72.082690675)  \n",
       "3  (35.466220975, -79.159250463)  \n",
       "4  (28.932040377, -81.928960539)  \n",
       "\n",
       "[5 rows x 23 columns]"
      ]
     },
     "execution_count": 7,
     "metadata": {},
     "output_type": "execute_result"
    }
   ],
   "source": [
    "# check for first few rows of the dataframe using head()\n",
    "cdc_df.head()"
   ]
  },
  {
   "cell_type": "code",
   "execution_count": 8,
   "metadata": {},
   "outputs": [
    {
     "data": {
      "text/plain": [
       "(1000, 23)"
      ]
     },
     "execution_count": 8,
     "metadata": {},
     "output_type": "execute_result"
    }
   ],
   "source": [
    "# Check the # of rows and columns of the dataframe by using shape function\n",
    "cdc_df.shape"
   ]
  },
  {
   "cell_type": "code",
   "execution_count": 9,
   "metadata": {},
   "outputs": [
    {
     "data": {
      "text/plain": [
       "Index(['year', 'quarter', 'StateCode', 'State', 'topicdesc', 'policytopic',\n",
       "       'datasource', 'setting', 'title', 'status', 'citation',\n",
       "       'statusaltvalue', 'datatype', 'comments', 'displayorder',\n",
       "       'policytypeid', 'healthtopicid', 'policytopicid', 'settingid',\n",
       "       'provisionid', ':@computed_region_bxsw_vy29',\n",
       "       ':@computed_region_he4y_prf8', 'geolocation'],\n",
       "      dtype='object')"
      ]
     },
     "execution_count": 9,
     "metadata": {},
     "output_type": "execute_result"
    }
   ],
   "source": [
    "# Replace Header 'locationabbr' to 'StateCode', 'locationdesc' to 'State' in the dataframe \n",
    "cdc_df.rename(columns= {\"locationabbr\": \"StateCode\", \"locationdesc\": \"State\"}, inplace=True)\n",
    "cdc_df.columns"
   ]
  },
  {
   "cell_type": "code",
   "execution_count": 10,
   "metadata": {},
   "outputs": [
    {
     "name": "stdout",
     "output_type": "stream",
     "text": [
      "Year is duplicated - True\n",
      "State Code is duplicated - True\n",
      "State is duplicated - True\n"
     ]
    }
   ],
   "source": [
    "# find duplicates for 'year', 'StateCode' and 'State' in dataframe\n",
    "# All three variables have duplicate values. The nature of my data set allows to have duplicate values in these columns. \n",
    "# Confirmed that all selected variables have duplicate values.\n",
    "\n",
    "print(\"Year is duplicated - {}\".format(any(cdc_df.year.duplicated())))\n",
    "print(\"State Code is duplicated - {}\".format(any(cdc_df.StateCode.duplicated())))\n",
    "print(\"State is duplicated - {}\".format(any(cdc_df.State.duplicated())))"
   ]
  },
  {
   "cell_type": "code",
   "execution_count": 11,
   "metadata": {},
   "outputs": [
    {
     "data": {
      "text/plain": [
       "year                           object\n",
       "quarter                        object\n",
       "StateCode                      object\n",
       "State                          object\n",
       "topicdesc                      object\n",
       "policytopic                    object\n",
       "datasource                     object\n",
       "setting                        object\n",
       "title                          object\n",
       "status                         object\n",
       "citation                       object\n",
       "statusaltvalue                 object\n",
       "datatype                       object\n",
       "comments                       object\n",
       "displayorder                   object\n",
       "policytypeid                   object\n",
       "healthtopicid                  object\n",
       "policytopicid                  object\n",
       "settingid                      object\n",
       "provisionid                    object\n",
       ":@computed_region_bxsw_vy29    object\n",
       ":@computed_region_he4y_prf8    object\n",
       "geolocation                    object\n",
       "dtype: object"
      ]
     },
     "execution_count": 11,
     "metadata": {},
     "output_type": "execute_result"
    }
   ],
   "source": [
    "# Check data types of the variables in cdc_df\n",
    "cdc_df.dtypes"
   ]
  },
  {
   "cell_type": "code",
   "execution_count": 12,
   "metadata": {},
   "outputs": [
    {
     "data": {
      "text/plain": [
       "{'whiskers': [<matplotlib.lines.Line2D at 0x1347c124fa0>,\n",
       "  <matplotlib.lines.Line2D at 0x1347c13d340>],\n",
       " 'caps': [<matplotlib.lines.Line2D at 0x1347c13d6a0>,\n",
       "  <matplotlib.lines.Line2D at 0x1347c13da00>],\n",
       " 'boxes': [<matplotlib.lines.Line2D at 0x1347c124c40>],\n",
       " 'medians': [<matplotlib.lines.Line2D at 0x1347c13dd60>],\n",
       " 'fliers': [<matplotlib.lines.Line2D at 0x1347c1470a0>],\n",
       " 'means': []}"
      ]
     },
     "execution_count": 12,
     "metadata": {},
     "output_type": "execute_result"
    },
    {
     "data": {
      "image/png": "[encoded data removed]",
      "text/plain": [
       "<Figure size 432x288 with 1 Axes>"
      ]
     },
     "metadata": {
      "needs_background": "light"
     },
     "output_type": "display_data"
    }
   ],
   "source": [
    "# plot the box plot to view outliers for 'displayorder'.\n",
    "plt.boxplot(cdc_df.displayorder.astype('int'), notch=True)"
   ]
  },
  {
   "cell_type": "code",
   "execution_count": 13,
   "metadata": {},
   "outputs": [],
   "source": [
    "# no need to remove any rows from data frame as there are no outliers in 'displayorder' column"
   ]
  },
  {
   "cell_type": "code",
   "execution_count": 14,
   "metadata": {},
   "outputs": [
    {
     "data": {
      "text/plain": [
       "year                           0\n",
       "quarter                        0\n",
       "StateCode                      0\n",
       "State                          0\n",
       "topicdesc                      0\n",
       "policytopic                    0\n",
       "datasource                     0\n",
       "setting                        0\n",
       "title                          0\n",
       "status                         0\n",
       "citation                       0\n",
       "statusaltvalue                 0\n",
       "datatype                       0\n",
       "comments                       0\n",
       "displayorder                   0\n",
       "policytypeid                   0\n",
       "healthtopicid                  0\n",
       "policytopicid                  0\n",
       "settingid                      0\n",
       "provisionid                    0\n",
       ":@computed_region_bxsw_vy29    0\n",
       ":@computed_region_he4y_prf8    0\n",
       "geolocation                    0\n",
       "dtype: int64"
      ]
     },
     "execution_count": 14,
     "metadata": {},
     "output_type": "execute_result"
    }
   ],
   "source": [
    "# checking null values in all columns and providing counts\n",
    "cdc_df.isnull().sum()"
   ]
  },
  {
   "cell_type": "code",
   "execution_count": 15,
   "metadata": {},
   "outputs": [],
   "source": [
    "# no null values found"
   ]
  },
  {
   "cell_type": "code",
   "execution_count": 16,
   "metadata": {},
   "outputs": [],
   "source": [
    "# Fix casing or inconsistent values\n",
    "# following four columns need to be deleted from dataframe \n",
    "del cdc_df['datasource']\n",
    "del cdc_df['datatype']\n",
    "del cdc_df[':@computed_region_bxsw_vy29']\n",
    "del cdc_df[':@computed_region_he4y_prf8']"
   ]
  },
  {
   "cell_type": "code",
   "execution_count": 17,
   "metadata": {},
   "outputs": [],
   "source": [
    "# Format data into a more readable format\n",
    "# data is in readable format and no need to change the format "
   ]
  },
  {
   "cell_type": "code",
   "execution_count": 18,
   "metadata": {},
   "outputs": [
    {
     "data": {
      "text/plain": [
       "(1000, 19)"
      ]
     },
     "execution_count": 18,
     "metadata": {},
     "output_type": "execute_result"
    }
   ],
   "source": [
    "# Check the # of rows and columns of the dataframe by using shape function after all cleansing is completed\n",
    "cdc_df.shape"
   ]
  },
  {
   "cell_type": "code",
   "execution_count": 19,
   "metadata": {},
   "outputs": [],
   "source": [
    "cdc_df.to_csv('cdc.csv', index=False)"
   ]
  },
  {
   "cell_type": "code",
   "execution_count": null,
   "metadata": {},
   "outputs": [],
   "source": []
  }
 ],
 "metadata": {
  "kernelspec": {
   "display_name": "Python 3",
   "language": "python",
   "name": "python3"
  },
  "language_info": {
   "codemirror_mode": {
    "name": "ipython",
    "version": 3
   },
   "file_extension": ".py",
   "mimetype": "text/x-python",
   "name": "python",
   "nbconvert_exporter": "python",
   "pygments_lexer": "ipython3",
   "version": "3.8.3"
  }
 },
 "nbformat": 4,
 "nbformat_minor": 4
}
